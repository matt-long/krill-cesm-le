{
 "cells": [
  {
   "cell_type": "markdown",
   "metadata": {},
   "source": [
    "# Investigate changes in the Krill Growth Potential simulated by the CESM-LE"
   ]
  },
  {
   "cell_type": "code",
   "execution_count": 1,
   "metadata": {},
   "outputs": [
    {
     "name": "stderr",
     "output_type": "stream",
     "text": [
      "Cannot write to data cache '/glade/p/cesmdata/cseg'. Will not be able to download remote data files. Use environment variable 'CESMDATAROOT' to specify another directory.\n"
     ]
    }
   ],
   "source": [
    "%matplotlib inline\n",
    "import os\n",
    "import shutil\n",
    "\n",
    "from glob import glob\n",
    "\n",
    "import cftime\n",
    "\n",
    "import numpy as np\n",
    "import xarray as xr\n",
    "\n",
    "import matplotlib.pyplot as plt\n",
    "\n",
    "import intake\n",
    "import pop_tools\n",
    "\n",
    "import util"
   ]
  },
  {
   "cell_type": "markdown",
   "metadata": {},
   "source": [
    "## Spin up dask cluster"
   ]
  },
  {
   "cell_type": "code",
   "execution_count": 2,
   "metadata": {},
   "outputs": [
    {
     "data": {
      "application/vnd.jupyter.widget-view+json": {
       "model_id": "ea4a8e122022479095247a93efdfdd0f",
       "version_major": 2,
       "version_minor": 0
      },
      "text/plain": [
       "VBox(children=(HTML(value='<h2>NCARCluster</h2>'), HBox(children=(HTML(value='\\n<div>\\n  <style scoped>\\n    .…"
      ]
     },
     "metadata": {},
     "output_type": "display_data"
    }
   ],
   "source": [
    "from ncar_jobqueue import NCARCluster\n",
    "cluster = NCARCluster(memory='100 GB')\n",
    "cluster.scale(32)\n",
    "cluster"
   ]
  },
  {
   "cell_type": "code",
   "execution_count": 3,
   "metadata": {},
   "outputs": [
    {
     "data": {
      "text/html": [
       "<table style=\"border: 2px solid white;\">\n",
       "<tr>\n",
       "<td style=\"vertical-align: top; border: 0px solid white\">\n",
       "<h3 style=\"text-align: left;\">Client</h3>\n",
       "<ul style=\"text-align: left; list-style: none; margin: 0; padding: 0;\">\n",
       "  <li><b>Scheduler: </b>tcp://10.12.205.22:35530</li>\n",
       "  <li><b>Dashboard: </b><a href='https://jupyterhub.ucar.edu/dav/user/mclong/proxy/8787/status' target='_blank'>https://jupyterhub.ucar.edu/dav/user/mclong/proxy/8787/status</a>\n",
       "</ul>\n",
       "</td>\n",
       "<td style=\"vertical-align: top; border: 0px solid white\">\n",
       "<h3 style=\"text-align: left;\">Cluster</h3>\n",
       "<ul style=\"text-align: left; list-style:none; margin: 0; padding: 0;\">\n",
       "  <li><b>Workers: </b>0</li>\n",
       "  <li><b>Cores: </b>0</li>\n",
       "  <li><b>Memory: </b>0 B</li>\n",
       "</ul>\n",
       "</td>\n",
       "</tr>\n",
       "</table>"
      ],
      "text/plain": [
       "<Client: 'tcp://10.12.205.22:35530' processes=0 threads=0, memory=0 B>"
      ]
     },
     "execution_count": 3,
     "metadata": {},
     "output_type": "execute_result"
    }
   ],
   "source": [
    "from dask.distributed import Client\n",
    "client = Client(cluster) # Connect this local process to remote workers\n",
    "client"
   ]
  },
  {
   "cell_type": "markdown",
   "metadata": {},
   "source": [
    "## Get the model grid for subsetting in latitude\n",
    "Where we are using the [pop_tools](https://pop-tools.readthedocs.io/en/latest/examples/get-model-grid.html) package. This reads the same binary files that the model read to generate the grid online."
   ]
  },
  {
   "cell_type": "code",
   "execution_count": 4,
   "metadata": {},
   "outputs": [
    {
     "data": {
      "text/html": [
       "<div><svg style=\"position: absolute; width: 0; height: 0; overflow: hidden\">\n",
       "<defs>\n",
       "<symbol id=\"icon-database\" viewBox=\"0 0 32 32\">\n",
       "<title>Show/Hide data repr</title>\n",
       "<path d=\"M16 0c-8.837 0-16 2.239-16 5v4c0 2.761 7.163 5 16 5s16-2.239 16-5v-4c0-2.761-7.163-5-16-5z\"></path>\n",
       "<path d=\"M16 17c-8.837 0-16-2.239-16-5v6c0 2.761 7.163 5 16 5s16-2.239 16-5v-6c0 2.761-7.163 5-16 5z\"></path>\n",
       "<path d=\"M16 26c-8.837 0-16-2.239-16-5v6c0 2.761 7.163 5 16 5s16-2.239 16-5v-6c0 2.761-7.163 5-16 5z\"></path>\n",
       "</symbol>\n",
       "<symbol id=\"icon-file-text2\" viewBox=\"0 0 32 32\">\n",
       "<title>Show/Hide attributes</title>\n",
       "<path d=\"M28.681 7.159c-0.694-0.947-1.662-2.053-2.724-3.116s-2.169-2.030-3.116-2.724c-1.612-1.182-2.393-1.319-2.841-1.319h-15.5c-1.378 0-2.5 1.121-2.5 2.5v27c0 1.378 1.122 2.5 2.5 2.5h23c1.378 0 2.5-1.122 2.5-2.5v-19.5c0-0.448-0.137-1.23-1.319-2.841zM24.543 5.457c0.959 0.959 1.712 1.825 2.268 2.543h-4.811v-4.811c0.718 0.556 1.584 1.309 2.543 2.268zM28 29.5c0 0.271-0.229 0.5-0.5 0.5h-23c-0.271 0-0.5-0.229-0.5-0.5v-27c0-0.271 0.229-0.5 0.5-0.5 0 0 15.499-0 15.5 0v7c0 0.552 0.448 1 1 1h7v19.5z\"></path>\n",
       "<path d=\"M23 26h-14c-0.552 0-1-0.448-1-1s0.448-1 1-1h14c0.552 0 1 0.448 1 1s-0.448 1-1 1z\"></path>\n",
       "<path d=\"M23 22h-14c-0.552 0-1-0.448-1-1s0.448-1 1-1h14c0.552 0 1 0.448 1 1s-0.448 1-1 1z\"></path>\n",
       "<path d=\"M23 18h-14c-0.552 0-1-0.448-1-1s0.448-1 1-1h14c0.552 0 1 0.448 1 1s-0.448 1-1 1z\"></path>\n",
       "</symbol>\n",
       "</defs>\n",
       "</svg>\n",
       "<style>/* CSS stylesheet for displaying xarray objects in jupyterlab.\n",
       " *\n",
       " */\n",
       "\n",
       ":root {\n",
       "  --xr-font-color0: var(--jp-content-font-color0, rgba(0, 0, 0, 1));\n",
       "  --xr-font-color2: var(--jp-content-font-color2, rgba(0, 0, 0, 0.54));\n",
       "  --xr-font-color3: var(--jp-content-font-color3, rgba(0, 0, 0, 0.38));\n",
       "  --xr-border-color: var(--jp-border-color2, #e0e0e0);\n",
       "  --xr-disabled-color: var(--jp-layout-color3, #bdbdbd);\n",
       "  --xr-background-color: var(--jp-layout-color0, white);\n",
       "  --xr-background-color-row-even: var(--jp-layout-color1, white);\n",
       "  --xr-background-color-row-odd: var(--jp-layout-color2, #eeeeee);\n",
       "}\n",
       "\n",
       ".xr-wrap {\n",
       "  min-width: 300px;\n",
       "  max-width: 700px;\n",
       "}\n",
       "\n",
       ".xr-header {\n",
       "  padding-top: 6px;\n",
       "  padding-bottom: 6px;\n",
       "  margin-bottom: 4px;\n",
       "  border-bottom: solid 1px var(--xr-border-color);\n",
       "}\n",
       "\n",
       ".xr-header > div,\n",
       ".xr-header > ul {\n",
       "  display: inline;\n",
       "  margin-top: 0;\n",
       "  margin-bottom: 0;\n",
       "}\n",
       "\n",
       ".xr-obj-type,\n",
       ".xr-array-name {\n",
       "  margin-left: 2px;\n",
       "  margin-right: 10px;\n",
       "}\n",
       "\n",
       ".xr-obj-type {\n",
       "  color: var(--xr-font-color2);\n",
       "}\n",
       "\n",
       ".xr-sections {\n",
       "  padding-left: 0 !important;\n",
       "  display: grid;\n",
       "  grid-template-columns: 150px auto auto 1fr 20px 20px;\n",
       "}\n",
       "\n",
       ".xr-section-item {\n",
       "  display: contents;\n",
       "}\n",
       "\n",
       ".xr-section-item input {\n",
       "  display: none;\n",
       "}\n",
       "\n",
       ".xr-section-item input + label {\n",
       "  color: var(--xr-disabled-color);\n",
       "}\n",
       "\n",
       ".xr-section-item input:enabled + label {\n",
       "  cursor: pointer;\n",
       "  color: var(--xr-font-color2);\n",
       "}\n",
       "\n",
       ".xr-section-item input:enabled + label:hover {\n",
       "  color: var(--xr-font-color0);\n",
       "}\n",
       "\n",
       ".xr-section-summary {\n",
       "  grid-column: 1;\n",
       "  color: var(--xr-font-color2);\n",
       "  font-weight: 500;\n",
       "}\n",
       "\n",
       ".xr-section-summary > span {\n",
       "  display: inline-block;\n",
       "  padding-left: 0.5em;\n",
       "}\n",
       "\n",
       ".xr-section-summary-in:disabled + label {\n",
       "  color: var(--xr-font-color2);\n",
       "}\n",
       "\n",
       ".xr-section-summary-in + label:before {\n",
       "  display: inline-block;\n",
       "  content: '►';\n",
       "  font-size: 11px;\n",
       "  width: 15px;\n",
       "  text-align: center;\n",
       "}\n",
       "\n",
       ".xr-section-summary-in:disabled + label:before {\n",
       "  color: var(--xr-disabled-color);\n",
       "}\n",
       "\n",
       ".xr-section-summary-in:checked + label:before {\n",
       "  content: '▼';\n",
       "}\n",
       "\n",
       ".xr-section-summary-in:checked + label > span {\n",
       "  display: none;\n",
       "}\n",
       "\n",
       ".xr-section-summary,\n",
       ".xr-section-inline-details {\n",
       "  padding-top: 4px;\n",
       "  padding-bottom: 4px;\n",
       "}\n",
       "\n",
       ".xr-section-inline-details {\n",
       "  grid-column: 2 / -1;\n",
       "}\n",
       "\n",
       ".xr-section-details {\n",
       "  display: none;\n",
       "  grid-column: 1 / -1;\n",
       "  margin-bottom: 5px;\n",
       "}\n",
       "\n",
       ".xr-section-summary-in:checked ~ .xr-section-details {\n",
       "  display: contents;\n",
       "}\n",
       "\n",
       ".xr-array-wrap {\n",
       "  grid-column: 1 / -1;\n",
       "  display: grid;\n",
       "  grid-template-columns: 20px auto;\n",
       "}\n",
       "\n",
       ".xr-array-wrap > label {\n",
       "  grid-column: 1;\n",
       "  vertical-align: top;\n",
       "}\n",
       "\n",
       ".xr-preview {\n",
       "  color: var(--xr-font-color3);\n",
       "}\n",
       "\n",
       ".xr-array-preview,\n",
       ".xr-array-data {\n",
       "  padding: 0 5px !important;\n",
       "  grid-column: 2;\n",
       "}\n",
       "\n",
       ".xr-array-data,\n",
       ".xr-array-in:checked ~ .xr-array-preview {\n",
       "  display: none;\n",
       "}\n",
       "\n",
       ".xr-array-in:checked ~ .xr-array-data,\n",
       ".xr-array-preview {\n",
       "  display: inline-block;\n",
       "}\n",
       "\n",
       ".xr-dim-list {\n",
       "  display: inline-block !important;\n",
       "  list-style: none;\n",
       "  padding: 0 !important;\n",
       "  margin: 0;\n",
       "}\n",
       "\n",
       ".xr-dim-list li {\n",
       "  display: inline-block;\n",
       "  padding: 0;\n",
       "  margin: 0;\n",
       "}\n",
       "\n",
       ".xr-dim-list:before {\n",
       "  content: '(';\n",
       "}\n",
       "\n",
       ".xr-dim-list:after {\n",
       "  content: ')';\n",
       "}\n",
       "\n",
       ".xr-dim-list li:not(:last-child):after {\n",
       "  content: ',';\n",
       "  padding-right: 5px;\n",
       "}\n",
       "\n",
       ".xr-has-index {\n",
       "  font-weight: bold;\n",
       "}\n",
       "\n",
       ".xr-var-list,\n",
       ".xr-var-item {\n",
       "  display: contents;\n",
       "}\n",
       "\n",
       ".xr-var-item > div,\n",
       ".xr-var-item label,\n",
       ".xr-var-item > .xr-var-name span {\n",
       "  background-color: var(--xr-background-color-row-even);\n",
       "  margin-bottom: 0;\n",
       "}\n",
       "\n",
       ".xr-var-item > .xr-var-name:hover span {\n",
       "  padding-right: 5px;\n",
       "}\n",
       "\n",
       ".xr-var-list > li:nth-child(odd) > div,\n",
       ".xr-var-list > li:nth-child(odd) > label,\n",
       ".xr-var-list > li:nth-child(odd) > .xr-var-name span {\n",
       "  background-color: var(--xr-background-color-row-odd);\n",
       "}\n",
       "\n",
       ".xr-var-name {\n",
       "  grid-column: 1;\n",
       "}\n",
       "\n",
       ".xr-var-dims {\n",
       "  grid-column: 2;\n",
       "}\n",
       "\n",
       ".xr-var-dtype {\n",
       "  grid-column: 3;\n",
       "  text-align: right;\n",
       "  color: var(--xr-font-color2);\n",
       "}\n",
       "\n",
       ".xr-var-preview {\n",
       "  grid-column: 4;\n",
       "}\n",
       "\n",
       ".xr-var-name,\n",
       ".xr-var-dims,\n",
       ".xr-var-dtype,\n",
       ".xr-preview,\n",
       ".xr-attrs dt {\n",
       "  white-space: nowrap;\n",
       "  overflow: hidden;\n",
       "  text-overflow: ellipsis;\n",
       "  padding-right: 10px;\n",
       "}\n",
       "\n",
       ".xr-var-name:hover,\n",
       ".xr-var-dims:hover,\n",
       ".xr-var-dtype:hover,\n",
       ".xr-attrs dt:hover {\n",
       "  overflow: visible;\n",
       "  width: auto;\n",
       "  z-index: 1;\n",
       "}\n",
       "\n",
       ".xr-var-attrs,\n",
       ".xr-var-data {\n",
       "  display: none;\n",
       "  background-color: var(--xr-background-color) !important;\n",
       "  padding-bottom: 5px !important;\n",
       "}\n",
       "\n",
       ".xr-var-attrs-in:checked ~ .xr-var-attrs,\n",
       ".xr-var-data-in:checked ~ .xr-var-data {\n",
       "  display: block;\n",
       "}\n",
       "\n",
       ".xr-var-data > table {\n",
       "  float: right;\n",
       "}\n",
       "\n",
       ".xr-var-name span,\n",
       ".xr-var-data,\n",
       ".xr-attrs {\n",
       "  padding-left: 25px !important;\n",
       "}\n",
       "\n",
       ".xr-attrs,\n",
       ".xr-var-attrs,\n",
       ".xr-var-data {\n",
       "  grid-column: 1 / -1;\n",
       "}\n",
       "\n",
       "dl.xr-attrs {\n",
       "  padding: 0;\n",
       "  margin: 0;\n",
       "  display: grid;\n",
       "  grid-template-columns: 125px auto;\n",
       "}\n",
       "\n",
       ".xr-attrs dt, dd {\n",
       "  padding: 0;\n",
       "  margin: 0;\n",
       "  float: left;\n",
       "  padding-right: 10px;\n",
       "  width: auto;\n",
       "}\n",
       "\n",
       ".xr-attrs dt {\n",
       "  font-weight: normal;\n",
       "  grid-column: 1;\n",
       "}\n",
       "\n",
       ".xr-attrs dt:hover span {\n",
       "  display: inline-block;\n",
       "  background: var(--xr-background-color);\n",
       "  padding-right: 10px;\n",
       "}\n",
       "\n",
       ".xr-attrs dd {\n",
       "  grid-column: 2;\n",
       "  white-space: pre-wrap;\n",
       "  word-break: break-all;\n",
       "}\n",
       "\n",
       ".xr-icon-database,\n",
       ".xr-icon-file-text2 {\n",
       "  display: inline-block;\n",
       "  vertical-align: middle;\n",
       "  width: 1em;\n",
       "  height: 1.5em !important;\n",
       "  stroke-width: 0;\n",
       "  stroke: currentColor;\n",
       "  fill: currentColor;\n",
       "}\n",
       "</style><div class='xr-wrap'><div class='xr-header'><div class='xr-obj-type'>xarray.Dataset</div></div><ul class='xr-sections'><li class='xr-section-item'><input id='section-915bcf75-5c05-4e6c-ad94-bb70b7e767f2' class='xr-section-summary-in' type='checkbox' disabled ><label for='section-915bcf75-5c05-4e6c-ad94-bb70b7e767f2' class='xr-section-summary'  title='Expand/collapse section'>Dimensions:</label><div class='xr-section-inline-details'><ul class='xr-dim-list'><li><span>nlat</span>: 384</li><li><span>nlon</span>: 320</li><li><span class='xr-has-index'>z_t</span>: 60</li><li><span class='xr-has-index'>z_w</span>: 60</li><li><span class='xr-has-index'>z_w_bot</span>: 60</li></ul></div><div class='xr-section-details'></div></li><li class='xr-section-item'><input id='section-4f67dcf4-9da3-45b5-80d2-f3cba9dcf66f' class='xr-section-summary-in' type='checkbox'  checked><label for='section-4f67dcf4-9da3-45b5-80d2-f3cba9dcf66f' class='xr-section-summary' >Coordinates: <span>(3)</span></label><div class='xr-section-inline-details'></div><div class='xr-section-details'><ul class='xr-var-list'><li class='xr-var-item'><div class='xr-var-name'><span class='xr-has-index'>z_t</span></div><div class='xr-var-dims'>(z_t)</div><div class='xr-var-dtype'>float64</div><div class='xr-var-preview xr-preview'>500.0 1.5e+03 ... 5.375e+05</div><input id='attrs-069462c7-a576-41ae-a589-c66c6708edab' class='xr-var-attrs-in' type='checkbox' ><label for='attrs-069462c7-a576-41ae-a589-c66c6708edab' title='Show/Hide attributes'><svg class='icon xr-icon-file-text2'><use xlink:href='#icon-file-text2'></use></svg></label><input id='data-3250ec69-a8bd-4929-9e0f-b317460f1d8f' class='xr-var-data-in' type='checkbox'><label for='data-3250ec69-a8bd-4929-9e0f-b317460f1d8f' title='Show/Hide data repr'><svg class='icon xr-icon-database'><use xlink:href='#icon-database'></use></svg></label><div class='xr-var-attrs'><dl class='xr-attrs'><dt><span>units :</span></dt><dd>cm</dd><dt><span>long_name :</span></dt><dd>depth from surface to midpoint of layer</dd><dt><span>positive :</span></dt><dd>down</dd></dl></div><pre class='xr-var-data'>array([5.000000e+02, 1.500000e+03, 2.500000e+03, 3.500000e+03, 4.500000e+03,\n",
       "       5.500000e+03, 6.500000e+03, 7.500000e+03, 8.500000e+03, 9.500000e+03,\n",
       "       1.050000e+04, 1.150000e+04, 1.250000e+04, 1.350000e+04, 1.450000e+04,\n",
       "       1.550000e+04, 1.650984e+04, 1.754790e+04, 1.862913e+04, 1.976603e+04,\n",
       "       2.097114e+04, 2.225783e+04, 2.364088e+04, 2.513702e+04, 2.676542e+04,\n",
       "       2.854837e+04, 3.051192e+04, 3.268680e+04, 3.510935e+04, 3.782276e+04,\n",
       "       4.087847e+04, 4.433777e+04, 4.827367e+04, 5.277280e+04, 5.793729e+04,\n",
       "       6.388626e+04, 7.075633e+04, 7.870025e+04, 8.788252e+04, 9.847059e+04,\n",
       "       1.106204e+05, 1.244567e+05, 1.400497e+05, 1.573946e+05, 1.764003e+05,\n",
       "       1.968944e+05, 2.186457e+05, 2.413972e+05, 2.649001e+05, 2.889385e+05,\n",
       "       3.133405e+05, 3.379794e+05, 3.627670e+05, 3.876452e+05, 4.125768e+05,\n",
       "       4.375393e+05, 4.625190e+05, 4.875083e+05, 5.125028e+05, 5.375000e+05])</pre></li><li class='xr-var-item'><div class='xr-var-name'><span class='xr-has-index'>z_w</span></div><div class='xr-var-dims'>(z_w)</div><div class='xr-var-dtype'>float64</div><div class='xr-var-preview xr-preview'>0.0 1e+03 2e+03 ... 5e+05 5.25e+05</div><input id='attrs-91545dd9-d375-4451-acc6-68d054adf60e' class='xr-var-attrs-in' type='checkbox' ><label for='attrs-91545dd9-d375-4451-acc6-68d054adf60e' title='Show/Hide attributes'><svg class='icon xr-icon-file-text2'><use xlink:href='#icon-file-text2'></use></svg></label><input id='data-f8d3411f-0ebe-48a5-91f3-93aacf0f3376' class='xr-var-data-in' type='checkbox'><label for='data-f8d3411f-0ebe-48a5-91f3-93aacf0f3376' title='Show/Hide data repr'><svg class='icon xr-icon-database'><use xlink:href='#icon-database'></use></svg></label><div class='xr-var-attrs'><dl class='xr-attrs'><dt><span>units :</span></dt><dd>cm</dd><dt><span>positive :</span></dt><dd>down</dd><dt><span>long_name :</span></dt><dd>depth from surface to top of layer</dd></dl></div><pre class='xr-var-data'>array([     0.    ,   1000.    ,   2000.    ,   3000.    ,   4000.    ,\n",
       "         5000.    ,   6000.    ,   7000.    ,   8000.    ,   9000.    ,\n",
       "        10000.    ,  11000.    ,  12000.    ,  13000.    ,  14000.    ,\n",
       "        15000.    ,  16000.    ,  17019.6808,  18076.1292,  19182.1243,\n",
       "        20349.9313,  21592.3446,  22923.3124,  24358.4534,  25915.5793,\n",
       "        27615.2589,  29481.4713,  31542.3736,  33831.2257,  36387.4728,\n",
       "        39258.0478,  42498.885 ,  46176.6575,  50370.6883,  55174.9119,\n",
       "        60699.6663,  67072.8582,  74439.803 ,  82960.6956,  92804.3538,\n",
       "       104136.8196, 117104.0188, 131809.3626, 148290.0716, 166499.2064,\n",
       "       186301.4408, 207487.3978, 229803.9076, 252990.4017, 276809.8509,\n",
       "       301067.0677, 325613.847 , 350344.8607, 375189.1888, 400101.1634,\n",
       "       425052.4544, 450026.0482, 475012.0091, 500004.6829, 525000.927 ])</pre></li><li class='xr-var-item'><div class='xr-var-name'><span class='xr-has-index'>z_w_bot</span></div><div class='xr-var-dims'>(z_w_bot)</div><div class='xr-var-dtype'>float64</div><div class='xr-var-preview xr-preview'>1e+03 2e+03 ... 5.25e+05 5.5e+05</div><input id='attrs-2c897881-dd88-47a3-9de6-34ae5a5f1904' class='xr-var-attrs-in' type='checkbox' ><label for='attrs-2c897881-dd88-47a3-9de6-34ae5a5f1904' title='Show/Hide attributes'><svg class='icon xr-icon-file-text2'><use xlink:href='#icon-file-text2'></use></svg></label><input id='data-12babf59-3f65-40c5-a6da-d9d6b26f4ffd' class='xr-var-data-in' type='checkbox'><label for='data-12babf59-3f65-40c5-a6da-d9d6b26f4ffd' title='Show/Hide data repr'><svg class='icon xr-icon-database'><use xlink:href='#icon-database'></use></svg></label><div class='xr-var-attrs'><dl class='xr-attrs'><dt><span>units :</span></dt><dd>cm</dd><dt><span>positive :</span></dt><dd>down</dd><dt><span>long_name :</span></dt><dd>depth from surface to bottom of layer</dd></dl></div><pre class='xr-var-data'>array([  1000.    ,   2000.    ,   3000.    ,   4000.    ,   5000.    ,\n",
       "         6000.    ,   7000.    ,   8000.    ,   9000.    ,  10000.    ,\n",
       "        11000.    ,  12000.    ,  13000.    ,  14000.    ,  15000.    ,\n",
       "        16000.    ,  17019.6808,  18076.1292,  19182.1243,  20349.9313,\n",
       "        21592.3446,  22923.3124,  24358.4534,  25915.5793,  27615.2589,\n",
       "        29481.4713,  31542.3736,  33831.2257,  36387.4728,  39258.0478,\n",
       "        42498.885 ,  46176.6575,  50370.6883,  55174.9119,  60699.6663,\n",
       "        67072.8582,  74439.803 ,  82960.6956,  92804.3538, 104136.8196,\n",
       "       117104.0188, 131809.3626, 148290.0716, 166499.2064, 186301.4408,\n",
       "       207487.3978, 229803.9076, 252990.4017, 276809.8509, 301067.0677,\n",
       "       325613.847 , 350344.8607, 375189.1888, 400101.1634, 425052.4544,\n",
       "       450026.0482, 475012.0091, 500004.6829, 525000.927 , 549999.0364])</pre></li></ul></div></li><li class='xr-section-item'><input id='section-49494b9e-164c-431e-8af7-b65579014540' class='xr-section-summary-in' type='checkbox'  checked><label for='section-49494b9e-164c-431e-8af7-b65579014540' class='xr-section-summary' >Data variables: <span>(13)</span></label><div class='xr-section-inline-details'></div><div class='xr-section-details'><ul class='xr-var-list'><li class='xr-var-item'><div class='xr-var-name'><span>TLAT</span></div><div class='xr-var-dims'>(nlat, nlon)</div><div class='xr-var-dtype'>float64</div><div class='xr-var-preview xr-preview'>-79.22 -79.22 ... 72.19 72.19</div><input id='attrs-8b56fbc9-e017-4340-9d8d-25a10c460cf7' class='xr-var-attrs-in' type='checkbox' ><label for='attrs-8b56fbc9-e017-4340-9d8d-25a10c460cf7' title='Show/Hide attributes'><svg class='icon xr-icon-file-text2'><use xlink:href='#icon-file-text2'></use></svg></label><input id='data-11e79d91-2a5c-4b48-81b1-6db3f98d009d' class='xr-var-data-in' type='checkbox'><label for='data-11e79d91-2a5c-4b48-81b1-6db3f98d009d' title='Show/Hide data repr'><svg class='icon xr-icon-database'><use xlink:href='#icon-database'></use></svg></label><div class='xr-var-attrs'><dl class='xr-attrs'><dt><span>units :</span></dt><dd>degrees_north</dd><dt><span>long_name :</span></dt><dd>T-grid latitude</dd></dl></div><pre class='xr-var-data'>array([[-79.22052261, -79.22052261, -79.22052261, ..., -79.22052261,\n",
       "        -79.22052261, -79.22052261],\n",
       "       [-78.68630626, -78.68630626, -78.68630626, ..., -78.68630626,\n",
       "        -78.68630626, -78.68630626],\n",
       "       [-78.15208992, -78.15208992, -78.15208992, ..., -78.15208992,\n",
       "        -78.15208992, -78.15208992],\n",
       "       ...,\n",
       "       [ 71.29031715,  71.29408252,  71.30160692, ...,  71.30160692,\n",
       "         71.29408252,  71.29031716],\n",
       "       [ 71.73524335,  71.73881845,  71.74596231, ...,  71.74596231,\n",
       "         71.73881845,  71.73524335],\n",
       "       [ 72.18597561,  72.18933231,  72.19603941, ...,  72.19603941,\n",
       "         72.18933231,  72.18597562]])</pre></li><li class='xr-var-item'><div class='xr-var-name'><span>TLONG</span></div><div class='xr-var-dims'>(nlat, nlon)</div><div class='xr-var-dtype'>float64</div><div class='xr-var-preview xr-preview'>320.6 321.7 322.8 ... 319.4 319.8</div><input id='attrs-1e683b5a-432d-4a26-80a2-d362f2a213ff' class='xr-var-attrs-in' type='checkbox' ><label for='attrs-1e683b5a-432d-4a26-80a2-d362f2a213ff' title='Show/Hide attributes'><svg class='icon xr-icon-file-text2'><use xlink:href='#icon-file-text2'></use></svg></label><input id='data-63a21639-cbd7-42d6-9289-1a4044e76ab0' class='xr-var-data-in' type='checkbox'><label for='data-63a21639-cbd7-42d6-9289-1a4044e76ab0' title='Show/Hide data repr'><svg class='icon xr-icon-database'><use xlink:href='#icon-database'></use></svg></label><div class='xr-var-attrs'><dl class='xr-attrs'><dt><span>units :</span></dt><dd>degrees_east</dd><dt><span>long_name :</span></dt><dd>T-grid longitude</dd></dl></div><pre class='xr-var-data'>array([[320.56250892, 321.68750895, 322.81250898, ..., 317.18750883,\n",
       "        318.31250886, 319.43750889],\n",
       "       [320.56250892, 321.68750895, 322.81250898, ..., 317.18750883,\n",
       "        318.31250886, 319.43750889],\n",
       "       [320.56250892, 321.68750895, 322.81250898, ..., 317.18750883,\n",
       "        318.31250886, 319.43750889],\n",
       "       ...,\n",
       "       [320.25133086, 320.75380113, 321.25577325, ..., 318.74424456,\n",
       "        319.24621668, 319.74869143],\n",
       "       [320.23459477, 320.70358949, 321.17207442, ..., 318.82794339,\n",
       "        319.29642832, 319.76542721],\n",
       "       [320.21650899, 320.6493303 , 321.08163473, ..., 318.91838308,\n",
       "        319.3506875 , 319.78351267]])</pre></li><li class='xr-var-item'><div class='xr-var-name'><span>ULAT</span></div><div class='xr-var-dims'>(nlat, nlon)</div><div class='xr-var-dtype'>float64</div><div class='xr-var-preview xr-preview'>-78.95 -78.95 ... 72.41 72.41</div><input id='attrs-dbc08293-c1a7-4526-a34b-eb36e82ba2ba' class='xr-var-attrs-in' type='checkbox' ><label for='attrs-dbc08293-c1a7-4526-a34b-eb36e82ba2ba' title='Show/Hide attributes'><svg class='icon xr-icon-file-text2'><use xlink:href='#icon-file-text2'></use></svg></label><input id='data-03445bab-b664-4ee0-a9b4-93846cbdfbe8' class='xr-var-data-in' type='checkbox'><label for='data-03445bab-b664-4ee0-a9b4-93846cbdfbe8' title='Show/Hide data repr'><svg class='icon xr-icon-database'><use xlink:href='#icon-database'></use></svg></label><div class='xr-var-attrs'><dl class='xr-attrs'><dt><span>units :</span></dt><dd>degrees_north</dd><dt><span>long_name :</span></dt><dd>U-grid latitude</dd></dl></div><pre class='xr-var-data'>array([[-78.95289509, -78.95289509, -78.95289509, ..., -78.95289509,\n",
       "        -78.95289509, -78.95289509],\n",
       "       [-78.41865507, -78.41865507, -78.41865507, ..., -78.41865507,\n",
       "        -78.41865507, -78.41865507],\n",
       "       [-77.88441506, -77.88441506, -77.88441506, ..., -77.88441506,\n",
       "        -77.88441506, -77.88441506],\n",
       "       ...,\n",
       "       [ 71.51215224,  71.51766482,  71.52684191, ...,  71.51766482,\n",
       "         71.51215224,  71.51031365],\n",
       "       [ 71.95983548,  71.96504258,  71.97371054, ...,  71.96504258,\n",
       "         71.95983548,  71.95809872],\n",
       "       [ 72.4135549 ,  72.41841155,  72.42649554, ...,  72.41841155,\n",
       "         72.4135549 ,  72.41193498]])</pre></li><li class='xr-var-item'><div class='xr-var-name'><span>ULONG</span></div><div class='xr-var-dims'>(nlat, nlon)</div><div class='xr-var-dtype'>float64</div><div class='xr-var-preview xr-preview'>321.1 322.3 323.4 ... 319.6 320.0</div><input id='attrs-3e225dac-ba8d-4d8e-88e6-6056f51e52a7' class='xr-var-attrs-in' type='checkbox' ><label for='attrs-3e225dac-ba8d-4d8e-88e6-6056f51e52a7' title='Show/Hide attributes'><svg class='icon xr-icon-file-text2'><use xlink:href='#icon-file-text2'></use></svg></label><input id='data-ff078686-dac4-486f-b401-9d6ed962e484' class='xr-var-data-in' type='checkbox'><label for='data-ff078686-dac4-486f-b401-9d6ed962e484' title='Show/Hide data repr'><svg class='icon xr-icon-database'><use xlink:href='#icon-database'></use></svg></label><div class='xr-var-attrs'><dl class='xr-attrs'><dt><span>units :</span></dt><dd>degrees_east</dd><dt><span>long_name :</span></dt><dd>U-grid longitude</dd></dl></div><pre class='xr-var-data'>array([[321.12500894, 322.25000897, 323.375009  , ..., 317.75000884,\n",
       "        318.87500887, 320.0000089 ],\n",
       "       [321.12500894, 322.25000897, 323.375009  , ..., 317.75000884,\n",
       "        318.87500887, 320.0000089 ],\n",
       "       [321.12500894, 322.25000897, 323.375009  , ..., 317.75000884,\n",
       "        318.87500887, 320.0000089 ],\n",
       "       ...,\n",
       "       [320.48637802, 320.97240884, 321.4577638 , ..., 319.02760897,\n",
       "        319.51363979, 320.00001324],\n",
       "       [320.45160767, 320.90286181, 321.35342745, ..., 319.097156  ,\n",
       "        319.54841014, 320.00001293],\n",
       "       [320.41397858, 320.82760085, 321.24052915, ..., 319.17241696,\n",
       "        319.58603923, 320.00001259]])</pre></li><li class='xr-var-item'><div class='xr-var-name'><span>DXT</span></div><div class='xr-var-dims'>(nlat, nlon)</div><div class='xr-var-dtype'>float64</div><div class='xr-var-preview xr-preview'>1.894e+06 1.893e+06 ... 1.473e+06</div><input id='attrs-e8e988a5-b871-451f-b195-400a2389bea1' class='xr-var-attrs-in' type='checkbox' ><label for='attrs-e8e988a5-b871-451f-b195-400a2389bea1' title='Show/Hide attributes'><svg class='icon xr-icon-file-text2'><use xlink:href='#icon-file-text2'></use></svg></label><input id='data-d49922f1-a0cf-41ce-b12d-2b1415ddc2c4' class='xr-var-data-in' type='checkbox'><label for='data-d49922f1-a0cf-41ce-b12d-2b1415ddc2c4' title='Show/Hide data repr'><svg class='icon xr-icon-database'><use xlink:href='#icon-database'></use></svg></label><div class='xr-var-attrs'><dl class='xr-attrs'><dt><span>units :</span></dt><dd>cm</dd><dt><span>long_name :</span></dt><dd>x-spacing centered at T points</dd><dt><span>coordinates :</span></dt><dd>TLONG TLAT</dd></dl></div><pre class='xr-var-data'>array([[1893724.16734842, 1893489.06047211, 1893007.05572959, ...,\n",
       "        1893007.05572959, 1893489.06047211, 1893724.16734842],\n",
       "       [2453808.06658755, 2453808.06658755, 2453808.06658755, ...,\n",
       "        2453808.06658755, 2453808.06658755, 2453808.06658755],\n",
       "       [2568054.75706075, 2568054.75706075, 2568054.75706075, ...,\n",
       "        2568054.75706075, 2568054.75706075, 2568054.75706075],\n",
       "       ...,\n",
       "       [1792815.11513785, 1792270.53086782, 1791150.69791216, ...,\n",
       "        1791150.69791216, 1792270.53086782, 1792815.11513785],\n",
       "       [1635014.87507127, 1634497.02506524, 1633433.44903024, ...,\n",
       "        1633433.44903024, 1634497.02506524, 1635014.87507127],\n",
       "       [1472954.03210867, 1472467.18486634, 1471468.46623378, ...,\n",
       "        1471468.46623378, 1472467.18486634, 1472954.03210867]])</pre></li><li class='xr-var-item'><div class='xr-var-name'><span>DYT</span></div><div class='xr-var-dims'>(nlat, nlon)</div><div class='xr-var-dtype'>float64</div><div class='xr-var-preview xr-preview'>5.94e+06 5.94e+06 ... 5.046e+06</div><input id='attrs-ab376795-5ea1-4597-84d9-102e8ba101a4' class='xr-var-attrs-in' type='checkbox' ><label for='attrs-ab376795-5ea1-4597-84d9-102e8ba101a4' title='Show/Hide attributes'><svg class='icon xr-icon-file-text2'><use xlink:href='#icon-file-text2'></use></svg></label><input id='data-9c24065d-1251-401c-8f98-712646fda911' class='xr-var-data-in' type='checkbox'><label for='data-9c24065d-1251-401c-8f98-712646fda911' title='Show/Hide data repr'><svg class='icon xr-icon-database'><use xlink:href='#icon-database'></use></svg></label><div class='xr-var-attrs'><dl class='xr-attrs'><dt><span>units :</span></dt><dd>cm</dd><dt><span>long_name :</span></dt><dd>y-spacing centered at T points</dd><dt><span>coordinates :</span></dt><dd>TLONG TLAT</dd></dl></div><pre class='xr-var-data'>array([[5939545.50164216, 5939545.50164216, 5939545.50164216, ...,\n",
       "        5939545.50164216, 5939545.50164216, 5939545.50164216],\n",
       "       [5939545.50164216, 5939545.50164216, 5939545.50164216, ...,\n",
       "        5939545.50164216, 5939545.50164216, 5939545.50164216],\n",
       "       [5939545.50164216, 5939545.50164216, 5939545.50164216, ...,\n",
       "        5939545.50164216, 5939545.50164216, 5939545.50164216],\n",
       "       ...,\n",
       "       [4916574.84890538, 4917288.98384521, 4918715.63970048, ...,\n",
       "        4918715.63970048, 4917288.98384521, 4916574.84890538],\n",
       "       [4978532.2566533 , 4979215.61944315, 4980580.74758446, ...,\n",
       "        4980580.74758446, 4979215.61944315, 4978532.2566533 ],\n",
       "       [5045798.85436364, 5046446.74588877, 5047740.96078377, ...,\n",
       "        5047740.96078377, 5046446.74588877, 5045798.85436364]])</pre></li><li class='xr-var-item'><div class='xr-var-name'><span>DXU</span></div><div class='xr-var-dims'>(nlat, nlon)</div><div class='xr-var-dtype'>float64</div><div class='xr-var-preview xr-preview'>2.397e+06 2.397e+06 ... 1.391e+06</div><input id='attrs-642774cf-fdb0-4372-99c7-582afe0d0318' class='xr-var-attrs-in' type='checkbox' ><label for='attrs-642774cf-fdb0-4372-99c7-582afe0d0318' title='Show/Hide attributes'><svg class='icon xr-icon-file-text2'><use xlink:href='#icon-file-text2'></use></svg></label><input id='data-8d99707f-2ce5-4819-a9db-74a87d82a095' class='xr-var-data-in' type='checkbox'><label for='data-8d99707f-2ce5-4819-a9db-74a87d82a095' title='Show/Hide data repr'><svg class='icon xr-icon-database'><use xlink:href='#icon-database'></use></svg></label><div class='xr-var-attrs'><dl class='xr-attrs'><dt><span>units :</span></dt><dd>cm</dd><dt><span>long_name :</span></dt><dd>x-spacing centered at U points</dd><dt><span>coordinates :</span></dt><dd>ULONG ULAT</dd></dl></div><pre class='xr-var-data'>array([[2396630.14446974, 2396630.14446974, 2396630.14446974, ...,\n",
       "        2396630.14446974, 2396630.14446974, 2396630.14446974],\n",
       "       [2510985.98870535, 2510985.98870535, 2510985.98870535, ...,\n",
       "        2510985.98870535, 2510985.98870535, 2510985.98870535],\n",
       "       [2625123.52541615, 2625123.52541615, 2625123.52541615, ...,\n",
       "        2625123.52541615, 2625123.52541615, 2625123.52541615],\n",
       "       ...,\n",
       "       [1714673.76651229, 1713860.79472732, 1712495.20914674, ...,\n",
       "        1713860.79472732, 1714673.76651229, 1714939.8761523 ],\n",
       "       [1554838.13362422, 1554069.67936816, 1552779.42960208, ...,\n",
       "        1554069.67936816, 1554838.13362422, 1555089.87399024],\n",
       "       [1390583.0833508 , 1389865.97173196, 1388662.44323673, ...,\n",
       "        1389865.97173196, 1390583.0833508 , 1390818.1902271 ]])</pre></li><li class='xr-var-item'><div class='xr-var-name'><span>DYU</span></div><div class='xr-var-dims'>(nlat, nlon)</div><div class='xr-var-dtype'>float64</div><div class='xr-var-preview xr-preview'>5.94e+06 5.94e+06 ... 5.493e+06</div><input id='attrs-7de46d2d-3cd7-403e-a85e-475b082dea94' class='xr-var-attrs-in' type='checkbox' ><label for='attrs-7de46d2d-3cd7-403e-a85e-475b082dea94' title='Show/Hide attributes'><svg class='icon xr-icon-file-text2'><use xlink:href='#icon-file-text2'></use></svg></label><input id='data-fc86fadc-ca70-4fff-8e62-59ac2cbd4400' class='xr-var-data-in' type='checkbox'><label for='data-fc86fadc-ca70-4fff-8e62-59ac2cbd4400' title='Show/Hide data repr'><svg class='icon xr-icon-database'><use xlink:href='#icon-database'></use></svg></label><div class='xr-var-attrs'><dl class='xr-attrs'><dt><span>units :</span></dt><dd>cm</dd><dt><span>long_name :</span></dt><dd>y-spacing centered at U points</dd><dt><span>coordinates :</span></dt><dd>ULONG ULAT</dd></dl></div><pre class='xr-var-data'>array([[5939545.50164216, 5939545.50164216, 5939545.50164216, ...,\n",
       "        5939545.50164216, 5939545.50164216, 5939545.50164216],\n",
       "       [5939545.50164216, 5939545.50164216, 5939545.50164216, ...,\n",
       "        5939545.50164216, 5939545.50164216, 5939545.50164216],\n",
       "       [5939545.50164216, 5939545.50164216, 5939545.50164216, ...,\n",
       "        5939545.50164216, 5939545.50164216, 5939545.50164216],\n",
       "       ...,\n",
       "       [4947728.34045104, 4948776.26283732, 4950520.12444762, ...,\n",
       "        4948776.26283732, 4947728.34045104, 4947378.76510764],\n",
       "       [5012332.0613836 , 5013330.30394832, 5014991.40441991, ...,\n",
       "        5013330.30394832, 5012332.0613836 , 5011999.04963334],\n",
       "       [5492753.21352024, 5493239.03401069, 5494047.42841524, ...,\n",
       "        5493239.03401069, 5492753.21352024, 5492591.14248556]])</pre></li><li class='xr-var-item'><div class='xr-var-name'><span>TAREA</span></div><div class='xr-var-dims'>(nlat, nlon)</div><div class='xr-var-dtype'>float64</div><div class='xr-var-preview xr-preview'>1.125e+13 1.125e+13 ... 7.432e+12</div><input id='attrs-ef7cda22-8a1f-4287-bb50-97da819802f0' class='xr-var-attrs-in' type='checkbox' ><label for='attrs-ef7cda22-8a1f-4287-bb50-97da819802f0' title='Show/Hide attributes'><svg class='icon xr-icon-file-text2'><use xlink:href='#icon-file-text2'></use></svg></label><input id='data-73d9cf19-c47d-40db-9452-cd85c10c0f23' class='xr-var-data-in' type='checkbox'><label for='data-73d9cf19-c47d-40db-9452-cd85c10c0f23' title='Show/Hide data repr'><svg class='icon xr-icon-database'><use xlink:href='#icon-database'></use></svg></label><div class='xr-var-attrs'><dl class='xr-attrs'><dt><span>units :</span></dt><dd>cm^2</dd><dt><span>long_name :</span></dt><dd>area of T cells</dd><dt><span>coordinates :</span></dt><dd>TLONG TLAT</dd></dl></div><pre class='xr-var-data'>array([[1.12478609e+13, 1.12464644e+13, 1.12436015e+13, ...,\n",
       "        1.12436015e+13, 1.12464644e+13, 1.12478609e+13],\n",
       "       [1.45745047e+13, 1.45745047e+13, 1.45745047e+13, ...,\n",
       "        1.45745047e+13, 1.45745047e+13, 1.45745047e+13],\n",
       "       [1.52530781e+13, 1.52530781e+13, 1.52530781e+13, ...,\n",
       "        1.52530781e+13, 1.52530781e+13, 1.52530781e+13],\n",
       "       ...,\n",
       "       [8.81450970e+12, 8.81311214e+12, 8.81016095e+12, ...,\n",
       "        8.81016095e+12, 8.81311214e+12, 8.81450970e+12],\n",
       "       [8.13997430e+12, 8.13851312e+12, 8.13544719e+12, ...,\n",
       "        8.13544719e+12, 8.13851312e+12, 8.13997430e+12],\n",
       "       [7.43222977e+12, 7.43072723e+12, 7.42759165e+12, ...,\n",
       "        7.42759165e+12, 7.43072723e+12, 7.43222977e+12]])</pre></li><li class='xr-var-item'><div class='xr-var-name'><span>UAREA</span></div><div class='xr-var-dims'>(nlat, nlon)</div><div class='xr-var-dtype'>float64</div><div class='xr-var-preview xr-preview'>1.423e+13 1.423e+13 ... 7.639e+12</div><input id='attrs-9d810185-bdba-48f9-9626-93e5ff06c960' class='xr-var-attrs-in' type='checkbox' ><label for='attrs-9d810185-bdba-48f9-9626-93e5ff06c960' title='Show/Hide attributes'><svg class='icon xr-icon-file-text2'><use xlink:href='#icon-file-text2'></use></svg></label><input id='data-965efc4e-f3b4-4bbc-83a9-855c2a173e23' class='xr-var-data-in' type='checkbox'><label for='data-965efc4e-f3b4-4bbc-83a9-855c2a173e23' title='Show/Hide data repr'><svg class='icon xr-icon-database'><use xlink:href='#icon-database'></use></svg></label><div class='xr-var-attrs'><dl class='xr-attrs'><dt><span>units :</span></dt><dd>cm^2</dd><dt><span>long_name :</span></dt><dd>area of U cells</dd><dt><span>coordinates :</span></dt><dd>ULONG ULAT</dd></dl></div><pre class='xr-var-data'>array([[1.42348938e+13, 1.42348938e+13, 1.42348938e+13, ...,\n",
       "        1.42348938e+13, 1.42348938e+13, 1.42348938e+13],\n",
       "       [1.49141155e+13, 1.49141155e+13, 1.49141155e+13, ...,\n",
       "        1.49141155e+13, 1.49141155e+13, 1.49141155e+13],\n",
       "       [1.55920406e+13, 1.55920406e+13, 1.55920406e+13, ...,\n",
       "        1.55920406e+13, 1.55920406e+13, 1.55920406e+13],\n",
       "       ...,\n",
       "       [8.48373999e+12, 8.48151362e+12, 8.47774200e+12, ...,\n",
       "        8.48151362e+12, 8.48373999e+12, 8.48445713e+12],\n",
       "       [7.79336503e+12, 7.79106462e+12, 7.78717549e+12, ...,\n",
       "        7.79106462e+12, 7.79336503e+12, 7.79410897e+12],\n",
       "       [7.63812970e+12, 7.63486601e+12, 7.62937733e+12, ...,\n",
       "        7.63486601e+12, 7.63812970e+12, 7.63919567e+12]])</pre></li><li class='xr-var-item'><div class='xr-var-name'><span>KMT</span></div><div class='xr-var-dims'>(nlat, nlon)</div><div class='xr-var-dtype'>int32</div><div class='xr-var-preview xr-preview'>0 0 0 0 0 0 0 0 ... 0 0 0 0 0 0 0 0</div><input id='attrs-8bf4d767-d71f-4989-b4f5-371a7a054363' class='xr-var-attrs-in' type='checkbox' ><label for='attrs-8bf4d767-d71f-4989-b4f5-371a7a054363' title='Show/Hide attributes'><svg class='icon xr-icon-file-text2'><use xlink:href='#icon-file-text2'></use></svg></label><input id='data-3fe58894-6a12-461d-a98c-4d1810d5a4ea' class='xr-var-data-in' type='checkbox'><label for='data-3fe58894-6a12-461d-a98c-4d1810d5a4ea' title='Show/Hide data repr'><svg class='icon xr-icon-database'><use xlink:href='#icon-database'></use></svg></label><div class='xr-var-attrs'><dl class='xr-attrs'><dt><span>long_name :</span></dt><dd>k Index of Deepest Grid Cell on T Grid</dd><dt><span>coordinates :</span></dt><dd>TLONG TLAT</dd></dl></div><pre class='xr-var-data'>array([[ 0,  0,  0, ...,  0,  0,  0],\n",
       "       [ 0,  0,  0, ...,  0,  0,  0],\n",
       "       [38, 38, 38, ...,  0,  0,  0],\n",
       "       ...,\n",
       "       [ 0,  0,  0, ...,  0,  0,  0],\n",
       "       [ 0,  0,  0, ...,  0,  0,  0],\n",
       "       [ 0,  0,  0, ...,  0,  0,  0]], dtype=int32)</pre></li><li class='xr-var-item'><div class='xr-var-name'><span>REGION_MASK</span></div><div class='xr-var-dims'>(nlat, nlon)</div><div class='xr-var-dtype'>int32</div><div class='xr-var-preview xr-preview'>0 0 0 0 0 0 0 0 ... 0 0 0 0 0 0 0 0</div><input id='attrs-91ac6444-4c52-4df1-9533-d99333b34109' class='xr-var-attrs-in' type='checkbox' ><label for='attrs-91ac6444-4c52-4df1-9533-d99333b34109' title='Show/Hide attributes'><svg class='icon xr-icon-file-text2'><use xlink:href='#icon-file-text2'></use></svg></label><input id='data-b97adb01-cc33-4840-a5ad-ada1b53a0aeb' class='xr-var-data-in' type='checkbox'><label for='data-b97adb01-cc33-4840-a5ad-ada1b53a0aeb' title='Show/Hide data repr'><svg class='icon xr-icon-database'><use xlink:href='#icon-database'></use></svg></label><div class='xr-var-attrs'><dl class='xr-attrs'><dt><span>long_name :</span></dt><dd>basin index number (signed integers)</dd><dt><span>coordinates :</span></dt><dd>TLONG TLAT</dd></dl></div><pre class='xr-var-data'>array([[0, 0, 0, ..., 0, 0, 0],\n",
       "       [0, 0, 0, ..., 0, 0, 0],\n",
       "       [1, 1, 1, ..., 0, 0, 0],\n",
       "       ...,\n",
       "       [0, 0, 0, ..., 0, 0, 0],\n",
       "       [0, 0, 0, ..., 0, 0, 0],\n",
       "       [0, 0, 0, ..., 0, 0, 0]], dtype=int32)</pre></li><li class='xr-var-item'><div class='xr-var-name'><span>dz</span></div><div class='xr-var-dims'>(z_t)</div><div class='xr-var-dtype'>float64</div><div class='xr-var-preview xr-preview'>1e+03 1e+03 ... 2.5e+04 2.5e+04</div><input id='attrs-c35bf219-1418-45ea-ab98-0dcef4c64a12' class='xr-var-attrs-in' type='checkbox' ><label for='attrs-c35bf219-1418-45ea-ab98-0dcef4c64a12' title='Show/Hide attributes'><svg class='icon xr-icon-file-text2'><use xlink:href='#icon-file-text2'></use></svg></label><input id='data-bd07c43d-827f-40ae-bf51-5b82c77b51c8' class='xr-var-data-in' type='checkbox'><label for='data-bd07c43d-827f-40ae-bf51-5b82c77b51c8' title='Show/Hide data repr'><svg class='icon xr-icon-database'><use xlink:href='#icon-database'></use></svg></label><div class='xr-var-attrs'><dl class='xr-attrs'><dt><span>units :</span></dt><dd>cm</dd><dt><span>long_name :</span></dt><dd>thickness of layer k</dd></dl></div><pre class='xr-var-data'>array([ 1000.    ,  1000.    ,  1000.    ,  1000.    ,  1000.    ,\n",
       "        1000.    ,  1000.    ,  1000.    ,  1000.    ,  1000.    ,\n",
       "        1000.    ,  1000.    ,  1000.    ,  1000.    ,  1000.    ,\n",
       "        1000.    ,  1019.6808,  1056.4484,  1105.9951,  1167.807 ,\n",
       "        1242.4133,  1330.9678,  1435.141 ,  1557.1259,  1699.6796,\n",
       "        1866.2124,  2060.9023,  2288.8521,  2556.2471,  2870.575 ,\n",
       "        3240.8372,  3677.7725,  4194.0308,  4804.2236,  5524.7544,\n",
       "        6373.1919,  7366.9448,  8520.8926,  9843.6582, 11332.4658,\n",
       "       12967.1992, 14705.3438, 16480.709 , 18209.1348, 19802.2344,\n",
       "       21185.957 , 22316.5098, 23186.4941, 23819.4492, 24257.2168,\n",
       "       24546.7793, 24731.0137, 24844.3281, 24911.9746, 24951.291 ,\n",
       "       24973.5938, 24985.9609, 24992.6738, 24996.2441, 24998.1094])</pre></li></ul></div></li><li class='xr-section-item'><input id='section-12c94e48-80a3-415d-9e87-5febfd813f1c' class='xr-section-summary-in' type='checkbox'  checked><label for='section-12c94e48-80a3-415d-9e87-5febfd813f1c' class='xr-section-summary' >Attributes: <span>(9)</span></label><div class='xr-section-inline-details'></div><div class='xr-section-details'><dl class='xr-attrs'><dt><span>lateral_dims :</span></dt><dd>[384, 320]</dd><dt><span>vertical_dims :</span></dt><dd>60</dd><dt><span>vert_grid_file :</span></dt><dd>gx1v7_vert_grid</dd><dt><span>horiz_grid_fname :</span></dt><dd>inputdata/ocn/pop/gx1v6/grid/horiz_grid_20010402.ieeer8</dd><dt><span>topography_fname :</span></dt><dd>inputdata/ocn/pop/gx1v6/grid/topography_20090204.ieeei4</dd><dt><span>region_mask_fname :</span></dt><dd>inputdata/ocn/pop/gx1v6/grid/region_mask_20090205.ieeei4</dd><dt><span>type :</span></dt><dd>dipole</dd><dt><span>region_mask_regions :</span></dt><dd>{&#x27;Caspian Sea&#x27;: -14, &#x27;Black Sea&#x27;: -13, &#x27;Baltic Sea&#x27;: -12, &#x27;Red Sea&#x27;: -5, &#x27;Southern Ocean&#x27;: 1, &#x27;Pacific Ocean&#x27;: 2, &#x27;Indian Ocean&#x27;: 3, &#x27;Persian Gulf&#x27;: 4, &#x27;Atlantic Ocean&#x27;: 6, &#x27;Mediterranean Sea&#x27;: 7, &#x27;Lab. Sea &amp; Baffin Bay&#x27;: 8, &#x27;GIN Seas&#x27;: 9, &#x27;Arctic Ocean&#x27;: 10, &#x27;Hudson Bay&#x27;: 11}</dd><dt><span>title :</span></dt><dd>POP_gx1v6 grid</dd></dl></div></li></ul></div></div>"
      ],
      "text/plain": [
       "<xarray.Dataset>\n",
       "Dimensions:      (nlat: 384, nlon: 320, z_t: 60, z_w: 60, z_w_bot: 60)\n",
       "Coordinates:\n",
       "  * z_t          (z_t) float64 500.0 1.5e+03 2.5e+03 ... 5.125e+05 5.375e+05\n",
       "  * z_w          (z_w) float64 0.0 1e+03 2e+03 3e+03 ... 4.75e+05 5e+05 5.25e+05\n",
       "  * z_w_bot      (z_w_bot) float64 1e+03 2e+03 3e+03 ... 5e+05 5.25e+05 5.5e+05\n",
       "Dimensions without coordinates: nlat, nlon\n",
       "Data variables:\n",
       "    TLAT         (nlat, nlon) float64 -79.22 -79.22 -79.22 ... 72.2 72.19 72.19\n",
       "    TLONG        (nlat, nlon) float64 320.6 321.7 322.8 ... 318.9 319.4 319.8\n",
       "    ULAT         (nlat, nlon) float64 -78.95 -78.95 -78.95 ... 72.42 72.41 72.41\n",
       "    ULONG        (nlat, nlon) float64 321.1 322.3 323.4 ... 319.2 319.6 320.0\n",
       "    DXT          (nlat, nlon) float64 1.894e+06 1.893e+06 ... 1.473e+06\n",
       "    DYT          (nlat, nlon) float64 5.94e+06 5.94e+06 ... 5.046e+06 5.046e+06\n",
       "    DXU          (nlat, nlon) float64 2.397e+06 2.397e+06 ... 1.391e+06\n",
       "    DYU          (nlat, nlon) float64 5.94e+06 5.94e+06 ... 5.493e+06 5.493e+06\n",
       "    TAREA        (nlat, nlon) float64 1.125e+13 1.125e+13 ... 7.432e+12\n",
       "    UAREA        (nlat, nlon) float64 1.423e+13 1.423e+13 ... 7.639e+12\n",
       "    KMT          (nlat, nlon) int32 0 0 0 0 0 0 0 0 0 0 ... 0 0 0 0 0 0 0 0 0 0\n",
       "    REGION_MASK  (nlat, nlon) int32 0 0 0 0 0 0 0 0 0 0 ... 0 0 0 0 0 0 0 0 0 0\n",
       "    dz           (z_t) float64 1e+03 1e+03 1e+03 ... 2.499e+04 2.5e+04 2.5e+04\n",
       "Attributes:\n",
       "    lateral_dims:         [384, 320]\n",
       "    vertical_dims:        60\n",
       "    vert_grid_file:       gx1v7_vert_grid\n",
       "    horiz_grid_fname:     inputdata/ocn/pop/gx1v6/grid/horiz_grid_20010402.ie...\n",
       "    topography_fname:     inputdata/ocn/pop/gx1v6/grid/topography_20090204.ie...\n",
       "    region_mask_fname:    inputdata/ocn/pop/gx1v6/grid/region_mask_20090205.i...\n",
       "    type:                 dipole\n",
       "    region_mask_regions:  {'Caspian Sea': -14, 'Black Sea': -13, 'Baltic Sea'...\n",
       "    title:                POP_gx1v6 grid"
      ]
     },
     "execution_count": 4,
     "metadata": {},
     "output_type": "execute_result"
    }
   ],
   "source": [
    "grid = pop_tools.get_grid('POP_gx1v6')\n",
    "grid"
   ]
  },
  {
   "cell_type": "markdown",
   "metadata": {},
   "source": [
    "Find the portion of the domain that is south of 30°S.\n",
    "Create a `slice` object corresponding to this region.\n",
    "\n",
    "First, let's visualize the `TLAT` array."
   ]
  },
  {
   "cell_type": "code",
   "execution_count": 5,
   "metadata": {},
   "outputs": [
    {
     "data": {
      "image/png": "[encoded data removed]",
      "text/plain": [
       "<Figure size 432x288 with 2 Axes>"
      ]
     },
     "metadata": {
      "needs_background": "light"
     },
     "output_type": "display_data"
    }
   ],
   "source": [
    "grid.TLAT.where(grid.KMT>0).plot();"
   ]
  },
  {
   "cell_type": "markdown",
   "metadata": {},
   "source": [
    "The model is a regular lat x lon grid in the southern hemisphere, this we can just use the first column of the `TLAT` array; all other columns are identical."
   ]
  },
  {
   "cell_type": "code",
   "execution_count": 6,
   "metadata": {},
   "outputs": [
    {
     "data": {
      "text/plain": [
       "slice(0, 93, None)"
      ]
     },
     "execution_count": 6,
     "metadata": {},
     "output_type": "execute_result"
    }
   ],
   "source": [
    "jnx = np.where(grid.TLAT[:, 0] <= -30)[0]\n",
    "lat_slice = slice(jnx[0], jnx[-1]+1)\n",
    "lat_slice"
   ]
  },
  {
   "cell_type": "markdown",
   "metadata": {},
   "source": [
    "Make a quick-look plot of the regions."
   ]
  },
  {
   "cell_type": "markdown",
   "metadata": {},
   "source": [
    "## Read the CESM-LE data \n",
    "\n",
    "We will use [`intake-esm`](https://intake-esm.readthedocs.io/en/latest/), which is a data catalog tool.\n",
    "It enables querying a database for the files we want, then loading those directly as an `xarray.Dataset`.\n",
    "\n",
    "First step is to set the \"collection\" for the CESM-LE, which depends on a json file conforming to the [ESM Catalog Specification](https://github.com/NCAR/esm-collection-spec)."
   ]
  },
  {
   "cell_type": "code",
   "execution_count": 7,
   "metadata": {},
   "outputs": [
    {
     "name": "stdout",
     "output_type": "stream",
     "text": [
      "The history saving thread hit an unexpected error (OperationalError('disk I/O error')).History will not be written to the database.\n"
     ]
    },
    {
     "data": {
      "application/json": "null:\n  args:\n    esmcol_obj: ./data/glade-cesm1-le.json\n    sep: ','\n  description: ''\n  driver: intake_esm.core.esm_datastore\n  metadata: {}\n",
      "text/plain": [
       "null:\n",
       "  args:\n",
       "    esmcol_obj: ./data/glade-cesm1-le.json\n",
       "    sep: ','\n",
       "  description: ''\n",
       "  driver: intake_esm.core.esm_datastore\n",
       "  metadata: {}\n"
      ]
     },
     "metadata": {
      "application/json": {
       "root": null
      }
     },
     "output_type": "display_data"
    }
   ],
   "source": [
    "catalog_file = './data/glade-cesm1-le.json'\n",
    "variables = ['SST', 'diatChl', 'spChl', 'diazChl', 'IFRAC',]# 'Jint_100m_DIC', \n",
    "#             'photoC_sp', 'photoC_diat', 'photoC_diaz']\n",
    "\n",
    "experiments = ['20C', 'RCP85']\n",
    "stream = 'pop.h'\n",
    "    \n",
    "col = intake.open_esm_datastore(catalog_file, sep=',')\n",
    "col"
   ]
  },
  {
   "cell_type": "markdown",
   "metadata": {},
   "source": [
    "Now we will search the collection for the ensemble members (unique `member_id`'s) that have a chlorophyll field. This is necessary because the ocean biogeochemistry was corrupted in some members and the data deleted.\n",
    "\n",
    "In this cell, `member_id` is a list of the ensemble members we want to operate on."
   ]
  },
  {
   "cell_type": "code",
   "execution_count": 8,
   "metadata": {},
   "outputs": [
    {
     "name": "stdout",
     "output_type": "stream",
     "text": [
      "[1, 2, 9, 10, 11, 12, 13, 14, 15, 16, 17, 18, 19, 20, 21, 22, 23, 24, 25, 26, 27, 28, 29, 30, 31, 32, 33, 34, 35, 101, 102, 103, 104, 105]\n"
     ]
    }
   ],
   "source": [
    "col_sub = col.search(experiment=['20C'],                      \n",
    "                     stream='pop.h', \n",
    "                     variable=['diatChl'])\n",
    "\n",
    "member_id = list(col_sub.df.member_id.unique())\n",
    "print(member_id)"
   ]
  },
  {
   "cell_type": "markdown",
   "metadata": {},
   "source": [
    "## Now let's search for the data we want\n",
    "\n",
    "Specify a list of variables and perform a search. Under the hood, the `search` functionality uses [`pandas`](https://pandas.pydata.org/) data frames. We can view that frame here using the `.df` syntax."
   ]
  },
  {
   "cell_type": "code",
   "execution_count": 9,
   "metadata": {},
   "outputs": [
    {
     "name": "stdout",
     "output_type": "stream",
     "text": [
      "<glade-cesm1-le catalog with 2 dataset(s) from 475 asset(s)>\n"
     ]
    },
    {
     "data": {
      "text/html": [
       "<div>\n",
       "<style scoped>\n",
       "    .dataframe tbody tr th:only-of-type {\n",
       "        vertical-align: middle;\n",
       "    }\n",
       "\n",
       "    .dataframe tbody tr th {\n",
       "        vertical-align: top;\n",
       "    }\n",
       "\n",
       "    .dataframe thead th {\n",
       "        text-align: right;\n",
       "    }\n",
       "</style>\n",
       "<table border=\"1\" class=\"dataframe\">\n",
       "  <thead>\n",
       "    <tr style=\"text-align: right;\">\n",
       "      <th></th>\n",
       "      <th>experiment</th>\n",
       "      <th>case</th>\n",
       "      <th>component</th>\n",
       "      <th>stream</th>\n",
       "      <th>variable</th>\n",
       "      <th>date_range</th>\n",
       "      <th>member_id</th>\n",
       "      <th>path</th>\n",
       "      <th>ctrl_branch_year</th>\n",
       "      <th>ctrl_experiment</th>\n",
       "      <th>ctrl_member_id</th>\n",
       "    </tr>\n",
       "  </thead>\n",
       "  <tbody>\n",
       "    <tr>\n",
       "      <th>0</th>\n",
       "      <td>20C</td>\n",
       "      <td>b.e11.B20TRC5CNBDRD.f09_g16.001</td>\n",
       "      <td>ocn</td>\n",
       "      <td>pop.h</td>\n",
       "      <td>IFRAC</td>\n",
       "      <td>185001-200512</td>\n",
       "      <td>1</td>\n",
       "      <td>/glade/campaign/cesm/collections/cesmLE/CESM-C...</td>\n",
       "      <td>402</td>\n",
       "      <td>CTRL</td>\n",
       "      <td>1</td>\n",
       "    </tr>\n",
       "    <tr>\n",
       "      <th>1</th>\n",
       "      <td>20C</td>\n",
       "      <td>b.e11.B20TRC5CNBDRD.f09_g16.002</td>\n",
       "      <td>ocn</td>\n",
       "      <td>pop.h</td>\n",
       "      <td>IFRAC</td>\n",
       "      <td>192001-200512</td>\n",
       "      <td>2</td>\n",
       "      <td>/glade/campaign/cesm/collections/cesmLE/CESM-C...</td>\n",
       "      <td>1920</td>\n",
       "      <td>20C</td>\n",
       "      <td>1</td>\n",
       "    </tr>\n",
       "    <tr>\n",
       "      <th>2</th>\n",
       "      <td>20C</td>\n",
       "      <td>b.e11.B20TRC5CNBDRD.f09_g16.009</td>\n",
       "      <td>ocn</td>\n",
       "      <td>pop.h</td>\n",
       "      <td>IFRAC</td>\n",
       "      <td>192001-200512</td>\n",
       "      <td>9</td>\n",
       "      <td>/glade/campaign/cesm/collections/cesmLE/CESM-C...</td>\n",
       "      <td>1920</td>\n",
       "      <td>20C</td>\n",
       "      <td>1</td>\n",
       "    </tr>\n",
       "    <tr>\n",
       "      <th>3</th>\n",
       "      <td>20C</td>\n",
       "      <td>b.e11.B20TRC5CNBDRD.f09_g16.010</td>\n",
       "      <td>ocn</td>\n",
       "      <td>pop.h</td>\n",
       "      <td>IFRAC</td>\n",
       "      <td>192001-200512</td>\n",
       "      <td>10</td>\n",
       "      <td>/glade/campaign/cesm/collections/cesmLE/CESM-C...</td>\n",
       "      <td>1920</td>\n",
       "      <td>20C</td>\n",
       "      <td>1</td>\n",
       "    </tr>\n",
       "    <tr>\n",
       "      <th>4</th>\n",
       "      <td>20C</td>\n",
       "      <td>b.e11.B20TRC5CNBDRD.f09_g16.011</td>\n",
       "      <td>ocn</td>\n",
       "      <td>pop.h</td>\n",
       "      <td>IFRAC</td>\n",
       "      <td>192001-200512</td>\n",
       "      <td>11</td>\n",
       "      <td>/glade/campaign/cesm/collections/cesmLE/CESM-C...</td>\n",
       "      <td>1920</td>\n",
       "      <td>20C</td>\n",
       "      <td>1</td>\n",
       "    </tr>\n",
       "  </tbody>\n",
       "</table>\n",
       "</div>"
      ],
      "text/plain": [
       "  experiment                             case component stream variable  \\\n",
       "0        20C  b.e11.B20TRC5CNBDRD.f09_g16.001       ocn  pop.h    IFRAC   \n",
       "1        20C  b.e11.B20TRC5CNBDRD.f09_g16.002       ocn  pop.h    IFRAC   \n",
       "2        20C  b.e11.B20TRC5CNBDRD.f09_g16.009       ocn  pop.h    IFRAC   \n",
       "3        20C  b.e11.B20TRC5CNBDRD.f09_g16.010       ocn  pop.h    IFRAC   \n",
       "4        20C  b.e11.B20TRC5CNBDRD.f09_g16.011       ocn  pop.h    IFRAC   \n",
       "\n",
       "      date_range  member_id  \\\n",
       "0  185001-200512          1   \n",
       "1  192001-200512          2   \n",
       "2  192001-200512          9   \n",
       "3  192001-200512         10   \n",
       "4  192001-200512         11   \n",
       "\n",
       "                                                path  ctrl_branch_year  \\\n",
       "0  /glade/campaign/cesm/collections/cesmLE/CESM-C...               402   \n",
       "1  /glade/campaign/cesm/collections/cesmLE/CESM-C...              1920   \n",
       "2  /glade/campaign/cesm/collections/cesmLE/CESM-C...              1920   \n",
       "3  /glade/campaign/cesm/collections/cesmLE/CESM-C...              1920   \n",
       "4  /glade/campaign/cesm/collections/cesmLE/CESM-C...              1920   \n",
       "\n",
       "  ctrl_experiment  ctrl_member_id  \n",
       "0            CTRL               1  \n",
       "1             20C               1  \n",
       "2             20C               1  \n",
       "3             20C               1  \n",
       "4             20C               1  "
      ]
     },
     "execution_count": 9,
     "metadata": {},
     "output_type": "execute_result"
    }
   ],
   "source": [
    "col_sub = col.search(\n",
    "    experiment=experiments, \n",
    "    stream=stream, \n",
    "    variable=variables,\n",
    "    member_id=member_id,\n",
    "    )\n",
    "\n",
    "print(col_sub)\n",
    "\n",
    "col_sub.df.head()"
   ]
  },
  {
   "cell_type": "markdown",
   "metadata": {},
   "source": [
    "Now we can use the [`to_dataset_dict`](https://intake-esm.readthedocs.io/en/latest/api.html#intake_esm.core.esm_datastore.to_dataset_dict) method to return a dictionary of `xarray.Dataset`'s. `intake_esm` makes groups of these according to rules in the collection spec file.\n",
    "\n",
    "We can use the `preprocess` parameter to pass in a function that makes some corrections to the dataset. So first we define a function that does the following:\n",
    "- fix the time coordinate to be the middle of the interval\n",
    "- drop the singleton dimension on SST (which screws up coordinate alignment)\n",
    "- subset to the time-interval 1920-2100"
   ]
  },
  {
   "cell_type": "code",
   "execution_count": 10,
   "metadata": {},
   "outputs": [],
   "source": [
    "def fix_sst_time_and_subset(ds):\n",
    "    \"\"\"Fix some things in the dataset and subset in space\"\"\"   \n",
    "    grid_vars = ['KMT', 'TAREA', 'TLAT', 'TLONG', 'z_t', 'dz', 'z_t_150m', 'time', 'time_bound']\n",
    "\n",
    "    if 'SST' in ds:\n",
    "        ds['SST'] = ds.SST.isel(z_t=0, drop=True)\n",
    "             \n",
    "    data_vars = list(filter(lambda v: v in variables, ds.data_vars))\n",
    "    \n",
    "    ds = ds[data_vars+grid_vars].isel(nlat=lat_slice)\n",
    "    \n",
    "    # set grid variables to coordinates to ease concatenation in intake-esm\n",
    "    new_coords = set(grid_vars) - set(ds.coords)\n",
    "\n",
    "    return ds.set_coords(new_coords)"
   ]
  },
  {
   "cell_type": "code",
   "execution_count": null,
   "metadata": {},
   "outputs": [
    {
     "name": "stdout",
     "output_type": "stream",
     "text": [
      "\n",
      "--> The keys in the returned dictionary of datasets are constructed as follows:\n",
      "\t'component,experiment,stream'\n"
     ]
    }
   ],
   "source": [
    "%%time\n",
    "dsets = col_sub.to_dataset_dict(cdf_kwargs={'chunks': {'time': 60}, 'decode_times': False},\n",
    "                                preprocess=fix_sst_time_and_subset)\n",
    "dsets"
   ]
  },
  {
   "cell_type": "markdown",
   "metadata": {},
   "source": [
    "Now, let's compute the total surface chlorophyll, put time at the mid-point of the interval, and subset to 1920-2100."
   ]
  },
  {
   "cell_type": "code",
   "execution_count": null,
   "metadata": {},
   "outputs": [],
   "source": [
    "def compute_chl_surf(ds):\n",
    "    \"\"\"compute surface chl\"\"\"\n",
    "\n",
    "    ds['Chl_surf'] = (ds.diatChl + ds.spChl + ds.diazChl).isel(z_t_150m=0)\n",
    "    ds.Chl_surf.attrs = ds.diatChl.attrs\n",
    "    ds.Chl_surf.attrs['long_name'] = 'Surface chlorophyll'\n",
    "\n",
    "    return ds.drop(['diatChl', 'spChl', 'diazChl'])\n",
    "\n",
    "def compute_NPP_zint(ds):\n",
    "    \"\"\"compute surface chl\"\"\"\n",
    "    \n",
    "    dz150m = ds.dz.isel(z_t=slice(0, 15)).rename({'z_t': 'z_t_150m'})\n",
    "    ds['NPP'] = ((ds.photoC_diat + ds.photoC_sp + ds.photoC_diaz) * dz150m).sum(dim='z_t_150m')\n",
    "    ds.NPP.attrs = ds.photoC_diat.attrs\n",
    "    ds.NPP.attrs['long_name'] = 'NPP'\n",
    "    ds.NPP.attrs['units'] = ds.NPP.attrs['units'] + ' cm'\n",
    "    \n",
    "    return ds.drop(['photoC_diat', 'photoC_sp', 'photoC_diaz'])\n",
    "\n",
    "\n",
    "def fix_time(ds):\n",
    "    ds = ds.copy(deep=True)\n",
    "    ds['time'] = xr.DataArray(cftime.num2date(ds.time_bound.mean(dim='d2'), units=ds.time.units, \n",
    "                                              calendar=ds.time.calendar), dims=('time'))\n",
    "    return ds    "
   ]
  },
  {
   "cell_type": "code",
   "execution_count": null,
   "metadata": {},
   "outputs": [],
   "source": [
    "# fix time\n",
    "dsets2 = {key: fix_time(ds) for key, ds in dsets.items()}\n",
    "\n",
    "# subset time\n",
    "dsets2 = {key: ds.sel(time=slice('1920', '2100')) for key, ds in dsets2.items()}\n",
    "\n",
    "# compute surface chl\n",
    "dsets2 = {key: compute_chl_surf(ds) for key, ds in dsets2.items()}\n",
    "\n",
    "# compute NPP\n",
    "#dsets2 = {key: compute_NPP_zint(ds) for key, ds in dsets2.items()}\n",
    "\n",
    "dsets2"
   ]
  },
  {
   "cell_type": "markdown",
   "metadata": {},
   "source": [
    "Concatenate the datasets in time, i.e. 20C + RCP8.5 experiments."
   ]
  },
  {
   "cell_type": "code",
   "execution_count": null,
   "metadata": {},
   "outputs": [],
   "source": [
    "ordered_dsets_keys = ['ocn,20C,pop.h', 'ocn,RCP85,pop.h']\n",
    "ds = xr.concat(\n",
    "    [dsets2[exp] for exp in ordered_dsets_keys], \n",
    "    dim='time', \n",
    "    data_vars='minimal'\n",
    ")\n",
    "ds"
   ]
  },
  {
   "cell_type": "markdown",
   "metadata": {},
   "source": [
    "## Apply bias correction"
   ]
  },
  {
   "cell_type": "code",
   "execution_count": null,
   "metadata": {},
   "outputs": [],
   "source": [
    "name_sst_obs = 'HadISST'\n",
    "\n",
    "ds_obs_sst = xr.open_dataset('/glade/work/mclong/HadISST/HadISST_sst_POP_gx1v6.nc', use_cftime=True)\n",
    "ds_obs_sst = ds_obs_sst.isel(nlat=lat_slice)\n",
    "ds_obs_sst = ds_obs_sst.sel(time=slice('1981', '2015')).drop(['TLAT', 'TLONG'])\n",
    "ds_obs_sst"
   ]
  },
  {
   "cell_type": "code",
   "execution_count": null,
   "metadata": {},
   "outputs": [],
   "source": [
    "sst_obs_mean = ds_obs_sst.sst.groupby('time.month').mean('time')\n",
    "sst_obs_mean"
   ]
  },
  {
   "cell_type": "code",
   "execution_count": null,
   "metadata": {},
   "outputs": [],
   "source": [
    "sst_obs_std = ds_obs_sst.sst.groupby('time.month').std('time')\n",
    "sst_obs_std"
   ]
  },
  {
   "cell_type": "code",
   "execution_count": null,
   "metadata": {},
   "outputs": [],
   "source": [
    "sst_mod = ds.SST.sel(time=slice('1981', '2015'))\n",
    "sst_mod = sst_mod.drop(['TLONG', 'TLAT', 'KMT', 'ULAT', 'ULONG', 'TAREA'])\n",
    "sst_mod = sst_mod.compute()\n",
    "sst_mod"
   ]
  },
  {
   "cell_type": "code",
   "execution_count": null,
   "metadata": {},
   "outputs": [],
   "source": [
    "sst_mod_mean = sst_mod.groupby('time.month').mean(['time', 'member_id'])\n",
    "sst_mod_mean = sst_mod_mean.compute()\n",
    "sst_mod_mean"
   ]
  },
  {
   "cell_type": "code",
   "execution_count": null,
   "metadata": {},
   "outputs": [],
   "source": [
    "sst_mod_std = sst_mod.groupby('time.month').std(['time', 'member_id'])\n",
    "sst_mod_std = sst_mod_std.compute()\n",
    "sst_mod_std"
   ]
  },
  {
   "cell_type": "code",
   "execution_count": null,
   "metadata": {},
   "outputs": [],
   "source": [
    "da = ds.SST.drop(['TLONG', 'TLAT', 'KMT', 'ULAT', 'ULONG', 'TAREA'])\n",
    "\n",
    "zscore = ((da.groupby('time.month') - sst_mod_mean)\n",
    "          .groupby('time.month') / sst_mod_std)\n",
    "\n",
    "sst_bias_corr = ((zscore.groupby('time.month') * sst_obs_std)\n",
    "                 .groupby('time.month') + sst_obs_mean)\n",
    "\n",
    "sst_bias_corr"
   ]
  },
  {
   "cell_type": "code",
   "execution_count": null,
   "metadata": {},
   "outputs": [],
   "source": [
    "ds.SST.sel(time=slice('1981', '2015')).isel(member_id=0, nlat=30, nlon=200).plot(label='original data')\n",
    "sst_bias_corr.sel(time=slice('1981', '2015')).isel(member_id=0, nlat=30, nlon=200).plot(label='bias corr')\n",
    "ds_obs_sst.sst.isel(nlat=30, nlon=200).plot(label='obs')\n",
    "plt.legend();"
   ]
  },
  {
   "cell_type": "code",
   "execution_count": null,
   "metadata": {},
   "outputs": [],
   "source": [
    "ds.SST.isel(member_id=0, nlat=30, nlon=200).plot(label='original data')\n",
    "sst_bias_corr.isel(member_id=0, nlat=30, nlon=200).plot(label='bias corr')\n",
    "ds_obs_sst.sst.isel(nlat=30, nlon=200).plot(label='obs')\n",
    "plt.legend();"
   ]
  },
  {
   "cell_type": "code",
   "execution_count": null,
   "metadata": {},
   "outputs": [],
   "source": [
    "ds = ds.rename(SST='SST_orig')\n",
    "ds['SST'] = sst_bias_corr\n",
    "ds.SST.attrs = ds.SST_orig.attrs\n",
    "ds.SST.attrs['note'] = f'bias corrected using {name_sst_obs}; reference period 1981-2015'\n",
    "ds"
   ]
  },
  {
   "cell_type": "markdown",
   "metadata": {},
   "source": [
    "## Compute Krill Growth Potential"
   ]
  },
  {
   "cell_type": "markdown",
   "metadata": {},
   "source": [
    "Define a \"length\" coordinate."
   ]
  },
  {
   "cell_type": "code",
   "execution_count": null,
   "metadata": {},
   "outputs": [],
   "source": [
    "length = xr.DataArray(\n",
    "    [20., 40., 60.], \n",
    "    name='length',\n",
    "    dims=('length'), \n",
    "    attrs={'units': 'mm', 'long_name': 'Krill body length'})\n",
    "length"
   ]
  },
  {
   "cell_type": "markdown",
   "metadata": {},
   "source": [
    "Perform the actual computation"
   ]
  },
  {
   "cell_type": "code",
   "execution_count": null,
   "metadata": {},
   "outputs": [],
   "source": [
    "ds = util.compute_kgp(ds, length)\n",
    "ds"
   ]
  },
  {
   "cell_type": "markdown",
   "metadata": {},
   "source": [
    "## Compute summer time (DJF) means "
   ]
  },
  {
   "cell_type": "code",
   "execution_count": null,
   "metadata": {},
   "outputs": [],
   "source": [
    "%%time\n",
    "ds_djf = util.ann_mean(ds, season='DJF', time_bnds_varname='time_bound')\n",
    "ds_djf"
   ]
  },
  {
   "cell_type": "code",
   "execution_count": null,
   "metadata": {},
   "outputs": [],
   "source": [
    "%%time\n",
    "ds_ann = util.ann_mean(ds, time_bnds_varname='time_bound')\n",
    "ds_ann"
   ]
  },
  {
   "cell_type": "code",
   "execution_count": null,
   "metadata": {},
   "outputs": [],
   "source": [
    "%%time\n",
    "dso_map = {\n",
    "    f'{util.project_tmpdir}/cesm-le-fields-djf.zarr': ds_djf.chunk({\n",
    "        'time': -1, \n",
    "        'member_id': 1, \n",
    "        'nlat': -1, \n",
    "        'nlon': -1,\n",
    "        'length': -1,\n",
    "    }\n",
    "    ), \n",
    "    f'{util.project_tmpdir}/cesm-le-fields-ann.zarr': ds_ann.chunk({\n",
    "        'time': -1, \n",
    "        'member_id': 1, \n",
    "        'nlat': -1, \n",
    "        'nlon': -1,\n",
    "        'length': -1,\n",
    "    }\n",
    "    ),     \n",
    "}\n",
    "for file_out, dso in dso_map.items():\n",
    "    util.write_ds_out(dso, file_out)"
   ]
  },
  {
   "cell_type": "code",
   "execution_count": null,
   "metadata": {},
   "outputs": [],
   "source": []
  }
 ],
 "metadata": {
  "kernelspec": {
   "display_name": "Python [conda env:miniconda3-krill]",
   "language": "python",
   "name": "conda-env-miniconda3-krill-py"
  },
  "language_info": {
   "codemirror_mode": {
    "name": "ipython",
    "version": 3
   },
   "file_extension": ".py",
   "mimetype": "text/x-python",
   "name": "python",
   "nbconvert_exporter": "python",
   "pygments_lexer": "ipython3",
   "version": "3.7.6"
  }
 },
 "nbformat": 4,
 "nbformat_minor": 4
}
