{
 "cells": [
  {
   "cell_type": "code",
   "execution_count": 1,
   "metadata": {},
   "outputs": [
    {
     "name": "stderr",
     "output_type": "stream",
     "text": [
      "Cannot write to data cache '/glade/p/cesmdata/cseg'. Will not be able to download remote data files. Use environment variable 'CESMDATAROOT' to specify another directory.\n"
     ]
    }
   ],
   "source": [
    "from itertools import product\n",
    "\n",
    "import numpy as np\n",
    "import xarray as xr\n",
    "\n",
    "import matplotlib.pyplot as plt\n",
    "import matplotlib.gridspec as gridspec\n",
    "import pop_tools\n",
    "import xpersist as xp\n",
    "\n",
    "import util"
   ]
  },
  {
   "cell_type": "code",
   "execution_count": 2,
   "metadata": {},
   "outputs": [
    {
     "data": {
      "text/html": [
       "<table style=\"border: 2px solid white;\">\n",
       "<tr>\n",
       "<td style=\"vertical-align: top; border: 0px solid white\">\n",
       "<h3 style=\"text-align: left;\">Client</h3>\n",
       "<ul style=\"text-align: left; list-style: none; margin: 0; padding: 0;\">\n",
       "  <li><b>Scheduler: </b>tcp://10.12.205.31:37569</li>\n",
       "  <li><b>Dashboard: </b><a href='https://jupyterhub.ucar.edu/dav/user/mclong/proxy/8787/status' target='_blank'>https://jupyterhub.ucar.edu/dav/user/mclong/proxy/8787/status</a>\n",
       "</ul>\n",
       "</td>\n",
       "<td style=\"vertical-align: top; border: 0px solid white\">\n",
       "<h3 style=\"text-align: left;\">Cluster</h3>\n",
       "<ul style=\"text-align: left; list-style:none; margin: 0; padding: 0;\">\n",
       "  <li><b>Workers: </b>0</li>\n",
       "  <li><b>Cores: </b>0</li>\n",
       "  <li><b>Memory: </b>0 B</li>\n",
       "</ul>\n",
       "</td>\n",
       "</tr>\n",
       "</table>"
      ],
      "text/plain": [
       "<Client: 'tcp://10.12.205.31:37569' processes=0 threads=0, memory=0 B>"
      ]
     },
     "execution_count": 2,
     "metadata": {},
     "output_type": "execute_result"
    }
   ],
   "source": [
    "from ncar_jobqueue import NCARCluster\n",
    "from dask.distributed import Client\n",
    "try:\n",
    "    cluster\n",
    "    client\n",
    "except:\n",
    "    cluster = NCARCluster()\n",
    "    cluster.scale(36)\n",
    "    client = Client(cluster) # Connect this local process to remote workers\n",
    "client"
   ]
  },
  {
   "cell_type": "markdown",
   "metadata": {},
   "source": [
    "## compute retrospective trends "
   ]
  },
  {
   "cell_type": "code",
   "execution_count": null,
   "metadata": {},
   "outputs": [
    {
     "name": "stderr",
     "output_type": "stream",
     "text": [
      "tornado.application - ERROR - Exception in callback <bound method BokehTornado._keep_alive of <bokeh.server.tornado.BokehTornado object at 0x2afa5b639610>>\n",
      "Traceback (most recent call last):\n",
      "  File \"/glade/work/mclong/miniconda3/envs/krill/lib/python3.7/site-packages/tornado/ioloop.py\", line 907, in _run\n",
      "    return self.callback()\n",
      "  File \"/glade/work/mclong/miniconda3/envs/krill/lib/python3.7/site-packages/bokeh/server/tornado.py\", line 579, in _keep_alive\n",
      "    c.send_ping()\n",
      "  File \"/glade/work/mclong/miniconda3/envs/krill/lib/python3.7/site-packages/bokeh/server/connection.py\", line 80, in send_ping\n",
      "    self._socket.ping(codecs.encode(str(self._ping_count), \"utf-8\"))\n",
      "  File \"/glade/work/mclong/miniconda3/envs/krill/lib/python3.7/site-packages/tornado/websocket.py\", line 447, in ping\n",
      "    raise WebSocketClosedError()\n",
      "tornado.websocket.WebSocketClosedError\n"
     ]
    }
   ],
   "source": [
    "%%time\n",
    "name = 'cesm-le-fields-djf-retro-trends'\n",
    "@xp.persist_ds(name=name, format='zarr', path=util.project_tmpdir, trust_cache=True, clobber=False)\n",
    "def retro_trends():\n",
    "\n",
    "    ds_djf = xr.open_zarr(f'{util.project_tmpdir}/cesm-le-fields-djf.zarr')\n",
    "    \n",
    "    # set up trend dimensions\n",
    "    trend_year = xr.DataArray(np.arange(1925, 2101, 1), dims=('time'))\n",
    "    trend_length = xr.DataArray([5, 10, 20, 60], dims=('trend_length'))\n",
    "\n",
    "    # loop over trends\n",
    "    ds_list = []\n",
    "    for end_year, n_year in product(trend_year.values, trend_length.values):\n",
    "\n",
    "        # subset data for the time-period of this trend\n",
    "        ds = ds_djf.sel(time=slice(end_year-n_year+1, end_year))\n",
    "        if len(ds.time) != n_year: \n",
    "            continue\n",
    "\n",
    "        # loop over vars and compute trends\n",
    "        da_list = []\n",
    "        for v in ds.data_vars:\n",
    "            da = util.linear_trend(\n",
    "                ds[v]\n",
    "            ).expand_dims(\n",
    "                trend_length=[n_year], \n",
    "                trend_year=[end_year]\n",
    "            ) * 10.\n",
    "            da.attrs = ds[v].attrs\n",
    "            da.attrs['units'] = ds[v].units + ' decade$^{-1}$'\n",
    "            da_list.append(da)\n",
    "\n",
    "        ds_list.append(xr.merge(da_list))\n",
    "\n",
    "    return xr.combine_by_coords(ds_list).compute()\n",
    "\n",
    "retro_trends()"
   ]
  },
  {
   "cell_type": "code",
   "execution_count": null,
   "metadata": {},
   "outputs": [],
   "source": []
  }
 ],
 "metadata": {
  "kernelspec": {
   "display_name": "Python [conda env:miniconda3-krill]",
   "language": "python",
   "name": "conda-env-miniconda3-krill-py"
  },
  "language_info": {
   "codemirror_mode": {
    "name": "ipython",
    "version": 3
   },
   "file_extension": ".py",
   "mimetype": "text/x-python",
   "name": "python",
   "nbconvert_exporter": "python",
   "pygments_lexer": "ipython3",
   "version": "3.7.6"
  }
 },
 "nbformat": 4,
 "nbformat_minor": 4
}
