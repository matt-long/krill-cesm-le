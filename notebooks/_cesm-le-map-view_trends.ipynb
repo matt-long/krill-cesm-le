{
 "cells": [
  {
   "cell_type": "code",
   "execution_count": 8,
   "metadata": {},
   "outputs": [],
   "source": [
    "from itertools import product\n",
    "import os\n",
    "import numpy as np\n",
    "import xarray as xr\n",
    "\n",
    "import matplotlib.pyplot as plt\n",
    "import matplotlib.gridspec as gridspec\n",
    "import pop_tools\n",
    "import xpersist as xp\n",
    "\n",
    "import util"
   ]
  },
  {
   "cell_type": "code",
   "execution_count": 9,
   "metadata": {},
   "outputs": [],
   "source": [
    "clobber = True\n",
    "path=util.project_tmpdir\n",
    "format='zarr'"
   ]
  },
  {
   "cell_type": "code",
   "execution_count": 10,
   "metadata": {},
   "outputs": [
    {
     "data": {
      "text/html": [
       "<table style=\"border: 2px solid white;\">\n",
       "<tr>\n",
       "<td style=\"vertical-align: top; border: 0px solid white\">\n",
       "<h3 style=\"text-align: left;\">Client</h3>\n",
       "<ul style=\"text-align: left; list-style: none; margin: 0; padding: 0;\">\n",
       "  <li><b>Scheduler: </b>tcp://10.12.205.27:40453</li>\n",
       "  <li><b>Dashboard: </b><a href='https://jupyterhub.ucar.edu/dav/user/mclong/proxy/8787/status' target='_blank'>https://jupyterhub.ucar.edu/dav/user/mclong/proxy/8787/status</a>\n",
       "</ul>\n",
       "</td>\n",
       "<td style=\"vertical-align: top; border: 0px solid white\">\n",
       "<h3 style=\"text-align: left;\">Cluster</h3>\n",
       "<ul style=\"text-align: left; list-style:none; margin: 0; padding: 0;\">\n",
       "  <li><b>Workers: </b>0</li>\n",
       "  <li><b>Cores: </b>0</li>\n",
       "  <li><b>Memory: </b>0 B</li>\n",
       "</ul>\n",
       "</td>\n",
       "</tr>\n",
       "</table>"
      ],
      "text/plain": [
       "<Client: 'tcp://10.12.205.27:40453' processes=0 threads=0, memory=0 B>"
      ]
     },
     "execution_count": 10,
     "metadata": {},
     "output_type": "execute_result"
    }
   ],
   "source": [
    "from ncar_jobqueue import NCARCluster\n",
    "from dask.distributed import Client\n",
    "try:\n",
    "    cluster\n",
    "    client\n",
    "except:\n",
    "    cluster = NCARCluster()\n",
    "    cluster.scale(35)\n",
    "    client = Client(cluster) # Connect this local process to remote workers\n",
    "client"
   ]
  },
  {
   "cell_type": "code",
   "execution_count": null,
   "metadata": {},
   "outputs": [
    {
     "name": "stdout",
     "output_type": "stream",
     "text": [
      "writing cache file: /glade/p/cgd/oce/projects/krill-cesm-le/data/cesm-le-fields-djf-prospective-trends.zarr\n"
     ]
    }
   ],
   "source": [
    "%%time\n",
    "name = 'cesm-le-fields-djf-prospective-trends'\n",
    "if os.path.exists(f'{path}/{name}.{format}') and clobber:\n",
    "    shutil.rmtree(f'{path}/{name}.{format}')\n",
    "    \n",
    "@xp.persist_ds(name=name, format=format, path=path, trust_cache=True, clobber=clobber)\n",
    "def prospective_trends():\n",
    "\n",
    "    ds_djf = xr.open_zarr(f'{util.project_tmpdir}/cesm-le-fields-djf.zarr') \n",
    "    \n",
    "    # set up trend dimensions\n",
    "    trend_year = xr.DataArray([2006, 2020,], dims=('time'))\n",
    "    trend_length = xr.DataArray([20, 50], dims=('trend_length'))\n",
    "\n",
    "    # loop over trends\n",
    "    ds_list = []\n",
    "    for start_year, n_year in product(trend_year.values, trend_length.values):\n",
    "\n",
    "        # subset data for the time-period of this trend\n",
    "        ds = ds_djf.sel(time=slice(start_year, start_year+n_year-1))\n",
    "        if len(ds.time) != n_year: \n",
    "            continue\n",
    "\n",
    "        # loop over vars and compute trends\n",
    "        da_list = []\n",
    "        for v in ds.data_vars:\n",
    "            da = util.linear_trend(\n",
    "                ds[v]\n",
    "            ).expand_dims(\n",
    "                trend_length=[n_year], \n",
    "                trend_year=[start_year]\n",
    "            ) * 10.\n",
    "            da.attrs = ds[v].attrs\n",
    "            da.attrs['units'] = ds[v].units + ' decade$^{-1}$'\n",
    "            da_list.append(da)\n",
    "            \n",
    "        ds_list.append(xr.merge(da_list))\n",
    "\n",
    "    return xr.combine_by_coords(ds_list) #.compute()\n",
    "\n",
    "ds = prospective_trends()\n",
    "ds"
   ]
  },
  {
   "cell_type": "code",
   "execution_count": null,
   "metadata": {},
   "outputs": [],
   "source": [
    "%%time\n",
    "name = 'cesm-le-fields-djf-prospective-trends-resolved'\n",
    "if os.path.exists(f'{path}/{name}.{format}') and clobber:\n",
    "    shutil.rmtree(f'{path}/{name}.{format}')\n",
    "    \n",
    "@xp.persist_ds(name=name, format=format, path=path, trust_cache=True, clobber=clobber)\n",
    "def prospective_trends():\n",
    "\n",
    "    ds_djf = xr.open_zarr(f'{util.project_tmpdir}/cesm-le-fields-djf.zarr') \n",
    "    \n",
    "    # set up trend dimensions\n",
    "    trend_year = xr.DataArray([2006, 2020,], dims=('time'))\n",
    "    trend_length = xr.DataArray(np.arange(5, 61, 1), dims=('trend_length'))\n",
    "\n",
    "    # loop over trends\n",
    "    ds_list = []\n",
    "    for start_year, n_year in product(trend_year.values, trend_length.values):\n",
    "\n",
    "        # subset data for the time-period of this trend\n",
    "        ds = ds_djf.sel(time=slice(start_year, start_year+n_year-1))\n",
    "        if len(ds.time) != n_year: \n",
    "            continue\n",
    "\n",
    "        # loop over vars and compute trends\n",
    "        da_list = []\n",
    "        for v in ds.data_vars:\n",
    "            da = util.linear_trend(\n",
    "                ds[v]\n",
    "            ).expand_dims(\n",
    "                trend_length=[n_year], \n",
    "                trend_year=[start_year]\n",
    "            ) * 10.\n",
    "            da.attrs = ds[v].attrs\n",
    "            da.attrs['units'] = ds[v].units + ' decade$^{-1}$'\n",
    "            da_list.append(da)\n",
    "            \n",
    "        ds_list.append(xr.merge(da_list))\n",
    "\n",
    "    return xr.combine_by_coords(ds_list) #.compute()\n",
    "\n",
    "ds = prospective_trends()\n",
    "ds"
   ]
  },
  {
   "cell_type": "markdown",
   "metadata": {},
   "source": [
    "## compute retrospective trends "
   ]
  },
  {
   "cell_type": "code",
   "execution_count": null,
   "metadata": {},
   "outputs": [],
   "source": [
    "%%time\n",
    "name = 'cesm-le-fields-djf-retro-trends'\n",
    "if os.path.exists(f'{path}/{name}.{format}') and clobber:\n",
    "    shutil.rmtree(f'{path}/{name}.{format}')\n",
    "    \n",
    "@xp.persist_ds(name=name, format=path, path=path, trust_cache=True, clobber=clobber)\n",
    "def retro_trends():\n",
    "\n",
    "    ds_djf = xr.open_zarr(f'{util.project_tmpdir}/cesm-le-fields-djf.zarr') \n",
    "    \n",
    "    # set up trend dimensions\n",
    "    trend_year = xr.DataArray(np.arange(2000, 2101, 1), dims=('time'))\n",
    "    trend_length = xr.DataArray([5, 10, 20, 60], dims=('trend_length'))\n",
    "\n",
    "    # loop over trends\n",
    "    ds_list = []\n",
    "    for end_year, n_year in product(trend_year.values, trend_length.values):\n",
    "\n",
    "        # subset data for the time-period of this trend\n",
    "        ds = ds_djf.sel(time=slice(end_year-n_year+1, end_year))\n",
    "        if len(ds.time) != n_year: \n",
    "            continue\n",
    "\n",
    "        # loop over vars and compute trends\n",
    "        da_list = []\n",
    "        for v in ds.data_vars:\n",
    "            da = util.linear_trend(\n",
    "                ds[v]\n",
    "            ).expand_dims(\n",
    "                trend_length=[n_year], \n",
    "                trend_year=[end_year]\n",
    "            ) * 10.\n",
    "            da.attrs = ds[v].attrs\n",
    "            da.attrs['units'] = ds[v].units + ' decade$^{-1}$'\n",
    "            da_list.append(da)\n",
    "            \n",
    "        ds_list.append(xr.merge(da_list))\n",
    "\n",
    "    return xr.combine_by_coords(ds_list) #.compute()\n",
    "\n",
    "ds = retro_trends()\n",
    "ds"
   ]
  },
  {
   "cell_type": "code",
   "execution_count": null,
   "metadata": {},
   "outputs": [],
   "source": [
    "ds.Chl_surf.sel(trend_year=2020, trend_length=50).mean('member_id').plot()"
   ]
  },
  {
   "cell_type": "code",
   "execution_count": null,
   "metadata": {},
   "outputs": [],
   "source": [
    "ds.Chl_surf.sel(trend_year=2020, trend_length=50).std('member_id').plot()"
   ]
  },
  {
   "cell_type": "code",
   "execution_count": null,
   "metadata": {},
   "outputs": [],
   "source": [
    "ds.KGP.sel(length=40, trend_year=2020).mean('member_id').mean('nlon').T.plot()"
   ]
  },
  {
   "cell_type": "code",
   "execution_count": null,
   "metadata": {},
   "outputs": [],
   "source": [
    "ds.KGP.sel(length=40, trend_year=2020).std('member_id').mean('nlon').T.plot()"
   ]
  },
  {
   "cell_type": "code",
   "execution_count": null,
   "metadata": {},
   "outputs": [],
   "source": []
  }
 ],
 "metadata": {
  "kernelspec": {
   "display_name": "Python [conda env:miniconda3-krill]",
   "language": "python",
   "name": "conda-env-miniconda3-krill-py"
  },
  "language_info": {
   "codemirror_mode": {
    "name": "ipython",
    "version": 3
   },
   "file_extension": ".py",
   "mimetype": "text/x-python",
   "name": "python",
   "nbconvert_exporter": "python",
   "pygments_lexer": "ipython3",
   "version": "3.7.6"
  }
 },
 "nbformat": 4,
 "nbformat_minor": 4
}
